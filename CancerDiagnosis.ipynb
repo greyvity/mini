{
 "cells": [
  {
   "cell_type": "markdown",
   "metadata": {},
   "source": [
    "# Personalized Cancer Diagnosis"
   ]
  },
  {
   "cell_type": "markdown",
   "metadata": {},
   "source": [
    "## Description\n",
    "<p>A lot has been said during the past several years about how precision medicine and, more concretely, how genetic testing is going to disrupt the way diseases like cancer are treated.</p>\n",
    "<p>Once sequenced, a cancer tumor can have thousands of genetic mutations. But the challenge is distinguishing the mutations that contribute to tumor growth (drivers) from the neutral mutations (passengers).  As not all mutations lead to cancer.</p>\n",
    "<p>Due to a mutation in a gene, there is some genetic variation developed in a gene. But the question comes, from which particular mutation this genetic variation happened in a gene. Currently this interpretation of genetic mutations is being done manually which is a very time-consuming task. Based on a gene and a variation in it, a clinical pathologist has to manually review and classify every single genetic mutation based on evidence from text-based clinical literature.</p>\n"
   ]
  },
  {
   "cell_type": "markdown",
   "metadata": {},
   "source": [
    "## Business Problem\n",
    "<p>The workflow is as follows:</p>\n",
    "<p>1. A molecular pathologist selects a list of genetic variations of interest that he/she want to analyze.</p>\n",
    "<p>2. The molecular pathologist searches for evidence in the medical literature that somehow are relevant to the genetic variations of interest.</p>\n",
    "<p>3. Finally, this molecular pathologist spends a huge amount of time analyzing the evidence related to each of the variations to classify them into any one of the 9 different classes.</p>\n",
    "<p>Our goal here is to replace step 3 by a machine learning model. The molecular pathologist will still have to decide which variations are of interest, and also collect the relevant evidence for them. But the last step, which is also the most time consuming, will be fully automated by a machine learning model.</p>\n",
    "\n",
    "## Problem Statement\n",
    "<p>Classify the given genetic variations/mutations based on evidence from text-based clinical literature. In this problem, we need to find the mutation-type given the gene, variation and some text data from published research.</p>"
   ]
  },
  {
   "cell_type": "markdown",
   "metadata": {},
   "source": [
    "## Source of Data\n",
    "<p> Source: https://www.kaggle.com/c/msk-redefining-cancer-treatment/data</p>\n",
    "<p> Data: Memorial Sloan Kettering Cancer Center (MSKCC)</p>"
   ]
  },
  {
   "cell_type": "markdown",
   "metadata": {},
   "source": [
    "## Real-world/Business objectives and constraints.\n",
    "* No low-latency requirement.\n",
    "* Interpretability is important.\n",
    "* Errors can be very costly.\n",
    "* Probability of a data-point belonging to each class is needed."
   ]
  },
  {
   "cell_type": "markdown",
   "metadata": {},
   "source": [
    "## Machine Learning Problem Formulation\n",
    "### Data Overview\n",
    "<p>- Source: https://www.kaggle.com/c/msk-redefining-cancer-treatment/data</p>\n",
    "<p>- We have two data files: one conatins the information about the genetic mutations and the other contains the clinical evidence (text) that  human experts/pathologists use to classify the genetic mutations. Both these data files are have a common column called ID.</p>\n",
    "<p>Data file's information:</p>\n",
    "    <ul> \n",
    "        <li>\n",
    "        training_variants (ID , Gene, Variations, Class)\n",
    "        </li>\n",
    "        <li>\n",
    "        training_text (ID, Text)\n",
    "        </li>\n",
    "    </ul>"
   ]
  },
  {
   "cell_type": "markdown",
   "metadata": {},
   "source": [
    "## Mapping the real-world problem to an ML problem\n",
    "\n",
    "### Type of Machine Learning Problem\n",
    "\n",
    "<p>There are nine different classes a genetic mutation can be classified into => Multi class classification problem</p>\n",
    "\n",
    "### Performance Metric\n",
    "\n",
    "<p>Source: https://www.kaggle.com/c/msk-redefining-cancer-treatment#evaluation</p>\n",
    "\n",
    "<h4 style = \"font-size:17px\">Metric(s):</h4>\n",
    "\n",
    "<ul> \n",
    "    <li>\n",
    "        Multi class log-loss\n",
    "    </li>\n",
    "    <li>\n",
    "        Confusion matrix \n",
    "    </li>\n",
    "</ul>"
   ]
  },
  {
   "cell_type": "markdown",
   "metadata": {},
   "source": [
    "## File Descriptions\n",
    "<p><b>TrainingData</b> - a comma separated file containing the description of the genetic mutations used for training. Fields are ID (the id of the row used to link the mutation to the clinical evidence), Gene (the gene where this genetic mutation is located), Variation (the aminoacid change for this mutations), Class (1-9 the class this genetic mutation has been classified on)</p>\n",
    "<p><b>TrainingText</b> - a double pipe (||) delimited file that contains the clinical evidence (text) used to classify genetic mutations. Fields are ID (the id of the row used to link the clinical evidence to the genetic mutation), Text (the clinical evidence used to classify the genetic mutation)</p>"
   ]
  },
  {
   "cell_type": "markdown",
   "metadata": {},
   "source": [
    "## Train, CV and Test Datasets\n",
    "<p> Split the dataset randomly into three parts train, cross validation and test with 64%,16%, 20% of data respectively</p>"
   ]
  },
  {
   "cell_type": "markdown",
   "metadata": {},
   "source": [
    "<h1>Exploratory Data Analysis</h1>"
   ]
  },
  {
   "cell_type": "code",
   "execution_count": 85,
   "metadata": {},
   "outputs": [],
   "source": [
    "import pandas as pd\n",
    "import matplotlib.pyplot as plt\n",
    "import numpy as np\n",
    "import seaborn as sns\n",
    "import warnings\n",
    "import math\n",
    "import re\n",
    "warnings.simplefilter('ignore')\n",
    "from collections import Counter, defaultdict\n",
    "from scipy.sparse import hstack\n",
    "from scipy.sparse import vstack\n",
    "from sklearn.feature_extraction.text import CountVectorizer\n",
    "from sklearn.feature_extraction.text import TfidfVectorizer\n",
    "from sklearn.linear_model import SGDClassifier\n",
    "\n",
    "from sklearn.svm import SVC\n",
    "from sklearn.calibration import CalibratedClassifierCV\n",
    "from sklearn.naive_bayes import MultinomialNB\n",
    "from sklearn.preprocessing import StandardScaler\n",
    "from sklearn.model_selection import train_test_split\n",
    "from sklearn.metrics import confusion_matrix\n",
    "from sklearn.metrics import accuracy_score, log_loss"
   ]
  },
  {
   "cell_type": "code",
   "execution_count": 86,
   "metadata": {},
   "outputs": [],
   "source": [
    "pd.set_option('display.max_columns', None)\n",
    "pd.set_option('display.max_rows', None)"
   ]
  },
  {
   "cell_type": "markdown",
   "metadata": {},
   "source": [
    "<h1>Reading Data</h1>"
   ]
  },
  {
   "cell_type": "code",
   "execution_count": 87,
   "metadata": {},
   "outputs": [],
   "source": [
    "data = pd.read_csv(\"Data/TrainingData\")"
   ]
  },
  {
   "cell_type": "code",
   "execution_count": 93,
   "metadata": {},
   "outputs": [
    {
     "data": {
      "text/html": [
       "<div>\n",
       "<style scoped>\n",
       "    .dataframe tbody tr th:only-of-type {\n",
       "        vertical-align: middle;\n",
       "    }\n",
       "\n",
       "    .dataframe tbody tr th {\n",
       "        vertical-align: top;\n",
       "    }\n",
       "\n",
       "    .dataframe thead th {\n",
       "        text-align: right;\n",
       "    }\n",
       "</style>\n",
       "<table border=\"1\" class=\"dataframe\">\n",
       "  <thead>\n",
       "    <tr style=\"text-align: right;\">\n",
       "      <th></th>\n",
       "      <th>ID</th>\n",
       "      <th>Gene</th>\n",
       "      <th>Variation</th>\n",
       "      <th>Class</th>\n",
       "    </tr>\n",
       "  </thead>\n",
       "  <tbody>\n",
       "    <tr>\n",
       "      <th>0</th>\n",
       "      <td>0</td>\n",
       "      <td>FAM58A</td>\n",
       "      <td>Truncating Mutations</td>\n",
       "      <td>1</td>\n",
       "    </tr>\n",
       "    <tr>\n",
       "      <th>1</th>\n",
       "      <td>1</td>\n",
       "      <td>CBL</td>\n",
       "      <td>W802*</td>\n",
       "      <td>2</td>\n",
       "    </tr>\n",
       "    <tr>\n",
       "      <th>2</th>\n",
       "      <td>2</td>\n",
       "      <td>CBL</td>\n",
       "      <td>Q249E</td>\n",
       "      <td>2</td>\n",
       "    </tr>\n",
       "    <tr>\n",
       "      <th>3</th>\n",
       "      <td>3</td>\n",
       "      <td>CBL</td>\n",
       "      <td>N454D</td>\n",
       "      <td>3</td>\n",
       "    </tr>\n",
       "    <tr>\n",
       "      <th>4</th>\n",
       "      <td>4</td>\n",
       "      <td>CBL</td>\n",
       "      <td>L399V</td>\n",
       "      <td>4</td>\n",
       "    </tr>\n",
       "    <tr>\n",
       "      <th>5</th>\n",
       "      <td>5</td>\n",
       "      <td>CBL</td>\n",
       "      <td>V391I</td>\n",
       "      <td>4</td>\n",
       "    </tr>\n",
       "    <tr>\n",
       "      <th>6</th>\n",
       "      <td>6</td>\n",
       "      <td>CBL</td>\n",
       "      <td>V430M</td>\n",
       "      <td>5</td>\n",
       "    </tr>\n",
       "    <tr>\n",
       "      <th>7</th>\n",
       "      <td>7</td>\n",
       "      <td>CBL</td>\n",
       "      <td>Deletion</td>\n",
       "      <td>1</td>\n",
       "    </tr>\n",
       "    <tr>\n",
       "      <th>8</th>\n",
       "      <td>8</td>\n",
       "      <td>CBL</td>\n",
       "      <td>Y371H</td>\n",
       "      <td>4</td>\n",
       "    </tr>\n",
       "    <tr>\n",
       "      <th>9</th>\n",
       "      <td>9</td>\n",
       "      <td>CBL</td>\n",
       "      <td>C384R</td>\n",
       "      <td>4</td>\n",
       "    </tr>\n",
       "  </tbody>\n",
       "</table>\n",
       "</div>"
      ],
      "text/plain": [
       "   ID    Gene             Variation  Class\n",
       "0   0  FAM58A  Truncating Mutations      1\n",
       "1   1     CBL                 W802*      2\n",
       "2   2     CBL                 Q249E      2\n",
       "3   3     CBL                 N454D      3\n",
       "4   4     CBL                 L399V      4\n",
       "5   5     CBL                 V391I      4\n",
       "6   6     CBL                 V430M      5\n",
       "7   7     CBL              Deletion      1\n",
       "8   8     CBL                 Y371H      4\n",
       "9   9     CBL                 C384R      4"
      ]
     },
     "execution_count": 93,
     "metadata": {},
     "output_type": "execute_result"
    }
   ],
   "source": [
    "data.head(10)"
   ]
  },
  {
   "cell_type": "code",
   "execution_count": 6,
   "metadata": {},
   "outputs": [
    {
     "data": {
      "text/plain": [
       "(3321, 4)"
      ]
     },
     "execution_count": 6,
     "metadata": {},
     "output_type": "execute_result"
    }
   ],
   "source": [
    "data.shape"
   ]
  },
  {
   "cell_type": "code",
   "execution_count": 7,
   "metadata": {},
   "outputs": [],
   "source": [
    "data_text = pd.read_csv(\"Data/TrainingText\", sep = \"\\|\\|\", names = [\"ID\", \"Text\"])"
   ]
  },
  {
   "cell_type": "code",
   "execution_count": 8,
   "metadata": {},
   "outputs": [],
   "source": [
    "data_text = data_text.drop(0, axis = 0)"
   ]
  },
  {
   "cell_type": "code",
   "execution_count": 9,
   "metadata": {},
   "outputs": [],
   "source": [
    "data_text = data_text.reset_index(drop = True)"
   ]
  },
  {
   "cell_type": "code",
   "execution_count": 10,
   "metadata": {},
   "outputs": [
    {
     "data": {
      "text/html": [
       "<div>\n",
       "<style scoped>\n",
       "    .dataframe tbody tr th:only-of-type {\n",
       "        vertical-align: middle;\n",
       "    }\n",
       "\n",
       "    .dataframe tbody tr th {\n",
       "        vertical-align: top;\n",
       "    }\n",
       "\n",
       "    .dataframe thead th {\n",
       "        text-align: right;\n",
       "    }\n",
       "</style>\n",
       "<table border=\"1\" class=\"dataframe\">\n",
       "  <thead>\n",
       "    <tr style=\"text-align: right;\">\n",
       "      <th></th>\n",
       "      <th>ID</th>\n",
       "      <th>Text</th>\n",
       "    </tr>\n",
       "  </thead>\n",
       "  <tbody>\n",
       "    <tr>\n",
       "      <th>0</th>\n",
       "      <td>0</td>\n",
       "      <td>Cyclin-dependent kinases (CDKs) regulate a var...</td>\n",
       "    </tr>\n",
       "    <tr>\n",
       "      <th>1</th>\n",
       "      <td>1</td>\n",
       "      <td>Abstract Background  Non-small cell lung canc...</td>\n",
       "    </tr>\n",
       "    <tr>\n",
       "      <th>2</th>\n",
       "      <td>2</td>\n",
       "      <td>Abstract Background  Non-small cell lung canc...</td>\n",
       "    </tr>\n",
       "    <tr>\n",
       "      <th>3</th>\n",
       "      <td>3</td>\n",
       "      <td>Recent evidence has demonstrated that acquired...</td>\n",
       "    </tr>\n",
       "    <tr>\n",
       "      <th>4</th>\n",
       "      <td>4</td>\n",
       "      <td>Oncogenic mutations in the monomeric Casitas B...</td>\n",
       "    </tr>\n",
       "  </tbody>\n",
       "</table>\n",
       "</div>"
      ],
      "text/plain": [
       "  ID                                               Text\n",
       "0  0  Cyclin-dependent kinases (CDKs) regulate a var...\n",
       "1  1   Abstract Background  Non-small cell lung canc...\n",
       "2  2   Abstract Background  Non-small cell lung canc...\n",
       "3  3  Recent evidence has demonstrated that acquired...\n",
       "4  4  Oncogenic mutations in the monomeric Casitas B..."
      ]
     },
     "execution_count": 10,
     "metadata": {},
     "output_type": "execute_result"
    }
   ],
   "source": [
    "data_text.head()"
   ]
  },
  {
   "cell_type": "code",
   "execution_count": 11,
   "metadata": {},
   "outputs": [
    {
     "data": {
      "text/plain": [
       "(3321, 2)"
      ]
     },
     "execution_count": 11,
     "metadata": {},
     "output_type": "execute_result"
    }
   ],
   "source": [
    "data_text.shape"
   ]
  },
  {
   "cell_type": "code",
   "execution_count": 12,
   "metadata": {},
   "outputs": [],
   "source": [
    "data_text = data_text.drop([\"ID\"], axis = 1)"
   ]
  },
  {
   "cell_type": "code",
   "execution_count": 13,
   "metadata": {},
   "outputs": [],
   "source": [
    "Final_Data = pd.concat([data, data_text], axis = 1)"
   ]
  },
  {
   "cell_type": "code",
   "execution_count": 14,
   "metadata": {},
   "outputs": [
    {
     "data": {
      "text/html": [
       "<div>\n",
       "<style scoped>\n",
       "    .dataframe tbody tr th:only-of-type {\n",
       "        vertical-align: middle;\n",
       "    }\n",
       "\n",
       "    .dataframe tbody tr th {\n",
       "        vertical-align: top;\n",
       "    }\n",
       "\n",
       "    .dataframe thead th {\n",
       "        text-align: right;\n",
       "    }\n",
       "</style>\n",
       "<table border=\"1\" class=\"dataframe\">\n",
       "  <thead>\n",
       "    <tr style=\"text-align: right;\">\n",
       "      <th></th>\n",
       "      <th>ID</th>\n",
       "      <th>Gene</th>\n",
       "      <th>Variation</th>\n",
       "      <th>Class</th>\n",
       "      <th>Text</th>\n",
       "    </tr>\n",
       "  </thead>\n",
       "  <tbody>\n",
       "    <tr>\n",
       "      <th>0</th>\n",
       "      <td>0</td>\n",
       "      <td>FAM58A</td>\n",
       "      <td>Truncating Mutations</td>\n",
       "      <td>1</td>\n",
       "      <td>Cyclin-dependent kinases (CDKs) regulate a var...</td>\n",
       "    </tr>\n",
       "    <tr>\n",
       "      <th>1</th>\n",
       "      <td>1</td>\n",
       "      <td>CBL</td>\n",
       "      <td>W802*</td>\n",
       "      <td>2</td>\n",
       "      <td>Abstract Background  Non-small cell lung canc...</td>\n",
       "    </tr>\n",
       "    <tr>\n",
       "      <th>2</th>\n",
       "      <td>2</td>\n",
       "      <td>CBL</td>\n",
       "      <td>Q249E</td>\n",
       "      <td>2</td>\n",
       "      <td>Abstract Background  Non-small cell lung canc...</td>\n",
       "    </tr>\n",
       "    <tr>\n",
       "      <th>3</th>\n",
       "      <td>3</td>\n",
       "      <td>CBL</td>\n",
       "      <td>N454D</td>\n",
       "      <td>3</td>\n",
       "      <td>Recent evidence has demonstrated that acquired...</td>\n",
       "    </tr>\n",
       "    <tr>\n",
       "      <th>4</th>\n",
       "      <td>4</td>\n",
       "      <td>CBL</td>\n",
       "      <td>L399V</td>\n",
       "      <td>4</td>\n",
       "      <td>Oncogenic mutations in the monomeric Casitas B...</td>\n",
       "    </tr>\n",
       "  </tbody>\n",
       "</table>\n",
       "</div>"
      ],
      "text/plain": [
       "   ID    Gene             Variation  Class  \\\n",
       "0   0  FAM58A  Truncating Mutations      1   \n",
       "1   1     CBL                 W802*      2   \n",
       "2   2     CBL                 Q249E      2   \n",
       "3   3     CBL                 N454D      3   \n",
       "4   4     CBL                 L399V      4   \n",
       "\n",
       "                                                Text  \n",
       "0  Cyclin-dependent kinases (CDKs) regulate a var...  \n",
       "1   Abstract Background  Non-small cell lung canc...  \n",
       "2   Abstract Background  Non-small cell lung canc...  \n",
       "3  Recent evidence has demonstrated that acquired...  \n",
       "4  Oncogenic mutations in the monomeric Casitas B...  "
      ]
     },
     "execution_count": 14,
     "metadata": {},
     "output_type": "execute_result"
    }
   ],
   "source": [
    "Final_Data.head()"
   ]
  },
  {
   "cell_type": "code",
   "execution_count": 15,
   "metadata": {},
   "outputs": [],
   "source": [
    "Final_Data_Label = Final_Data[\"Class\"]"
   ]
  },
  {
   "cell_type": "code",
   "execution_count": 16,
   "metadata": {},
   "outputs": [],
   "source": [
    "Final_Data = Final_Data.drop([\"Class\"], axis = 1)"
   ]
  },
  {
   "cell_type": "code",
   "execution_count": 17,
   "metadata": {},
   "outputs": [
    {
     "data": {
      "text/html": [
       "<div>\n",
       "<style scoped>\n",
       "    .dataframe tbody tr th:only-of-type {\n",
       "        vertical-align: middle;\n",
       "    }\n",
       "\n",
       "    .dataframe tbody tr th {\n",
       "        vertical-align: top;\n",
       "    }\n",
       "\n",
       "    .dataframe thead th {\n",
       "        text-align: right;\n",
       "    }\n",
       "</style>\n",
       "<table border=\"1\" class=\"dataframe\">\n",
       "  <thead>\n",
       "    <tr style=\"text-align: right;\">\n",
       "      <th></th>\n",
       "      <th>ID</th>\n",
       "      <th>Gene</th>\n",
       "      <th>Variation</th>\n",
       "      <th>Text</th>\n",
       "    </tr>\n",
       "  </thead>\n",
       "  <tbody>\n",
       "    <tr>\n",
       "      <th>0</th>\n",
       "      <td>0</td>\n",
       "      <td>FAM58A</td>\n",
       "      <td>Truncating Mutations</td>\n",
       "      <td>Cyclin-dependent kinases (CDKs) regulate a var...</td>\n",
       "    </tr>\n",
       "    <tr>\n",
       "      <th>1</th>\n",
       "      <td>1</td>\n",
       "      <td>CBL</td>\n",
       "      <td>W802*</td>\n",
       "      <td>Abstract Background  Non-small cell lung canc...</td>\n",
       "    </tr>\n",
       "    <tr>\n",
       "      <th>2</th>\n",
       "      <td>2</td>\n",
       "      <td>CBL</td>\n",
       "      <td>Q249E</td>\n",
       "      <td>Abstract Background  Non-small cell lung canc...</td>\n",
       "    </tr>\n",
       "    <tr>\n",
       "      <th>3</th>\n",
       "      <td>3</td>\n",
       "      <td>CBL</td>\n",
       "      <td>N454D</td>\n",
       "      <td>Recent evidence has demonstrated that acquired...</td>\n",
       "    </tr>\n",
       "    <tr>\n",
       "      <th>4</th>\n",
       "      <td>4</td>\n",
       "      <td>CBL</td>\n",
       "      <td>L399V</td>\n",
       "      <td>Oncogenic mutations in the monomeric Casitas B...</td>\n",
       "    </tr>\n",
       "  </tbody>\n",
       "</table>\n",
       "</div>"
      ],
      "text/plain": [
       "   ID    Gene             Variation  \\\n",
       "0   0  FAM58A  Truncating Mutations   \n",
       "1   1     CBL                 W802*   \n",
       "2   2     CBL                 Q249E   \n",
       "3   3     CBL                 N454D   \n",
       "4   4     CBL                 L399V   \n",
       "\n",
       "                                                Text  \n",
       "0  Cyclin-dependent kinases (CDKs) regulate a var...  \n",
       "1   Abstract Background  Non-small cell lung canc...  \n",
       "2   Abstract Background  Non-small cell lung canc...  \n",
       "3  Recent evidence has demonstrated that acquired...  \n",
       "4  Oncogenic mutations in the monomeric Casitas B...  "
      ]
     },
     "execution_count": 17,
     "metadata": {},
     "output_type": "execute_result"
    }
   ],
   "source": [
    "Final_Data.head()"
   ]
  },
  {
   "cell_type": "code",
   "execution_count": 18,
   "metadata": {},
   "outputs": [],
   "source": [
    "Final_Data = pd.concat([Final_Data, Final_Data_Label], axis = 1)"
   ]
  },
  {
   "cell_type": "code",
   "execution_count": 19,
   "metadata": {},
   "outputs": [
    {
     "data": {
      "text/html": [
       "<div>\n",
       "<style scoped>\n",
       "    .dataframe tbody tr th:only-of-type {\n",
       "        vertical-align: middle;\n",
       "    }\n",
       "\n",
       "    .dataframe tbody tr th {\n",
       "        vertical-align: top;\n",
       "    }\n",
       "\n",
       "    .dataframe thead th {\n",
       "        text-align: right;\n",
       "    }\n",
       "</style>\n",
       "<table border=\"1\" class=\"dataframe\">\n",
       "  <thead>\n",
       "    <tr style=\"text-align: right;\">\n",
       "      <th></th>\n",
       "      <th>ID</th>\n",
       "      <th>Gene</th>\n",
       "      <th>Variation</th>\n",
       "      <th>Text</th>\n",
       "      <th>Class</th>\n",
       "    </tr>\n",
       "  </thead>\n",
       "  <tbody>\n",
       "    <tr>\n",
       "      <th>0</th>\n",
       "      <td>0</td>\n",
       "      <td>FAM58A</td>\n",
       "      <td>Truncating Mutations</td>\n",
       "      <td>Cyclin-dependent kinases (CDKs) regulate a var...</td>\n",
       "      <td>1</td>\n",
       "    </tr>\n",
       "    <tr>\n",
       "      <th>1</th>\n",
       "      <td>1</td>\n",
       "      <td>CBL</td>\n",
       "      <td>W802*</td>\n",
       "      <td>Abstract Background  Non-small cell lung canc...</td>\n",
       "      <td>2</td>\n",
       "    </tr>\n",
       "    <tr>\n",
       "      <th>2</th>\n",
       "      <td>2</td>\n",
       "      <td>CBL</td>\n",
       "      <td>Q249E</td>\n",
       "      <td>Abstract Background  Non-small cell lung canc...</td>\n",
       "      <td>2</td>\n",
       "    </tr>\n",
       "    <tr>\n",
       "      <th>3</th>\n",
       "      <td>3</td>\n",
       "      <td>CBL</td>\n",
       "      <td>N454D</td>\n",
       "      <td>Recent evidence has demonstrated that acquired...</td>\n",
       "      <td>3</td>\n",
       "    </tr>\n",
       "    <tr>\n",
       "      <th>4</th>\n",
       "      <td>4</td>\n",
       "      <td>CBL</td>\n",
       "      <td>L399V</td>\n",
       "      <td>Oncogenic mutations in the monomeric Casitas B...</td>\n",
       "      <td>4</td>\n",
       "    </tr>\n",
       "  </tbody>\n",
       "</table>\n",
       "</div>"
      ],
      "text/plain": [
       "   ID    Gene             Variation  \\\n",
       "0   0  FAM58A  Truncating Mutations   \n",
       "1   1     CBL                 W802*   \n",
       "2   2     CBL                 Q249E   \n",
       "3   3     CBL                 N454D   \n",
       "4   4     CBL                 L399V   \n",
       "\n",
       "                                                Text  Class  \n",
       "0  Cyclin-dependent kinases (CDKs) regulate a var...      1  \n",
       "1   Abstract Background  Non-small cell lung canc...      2  \n",
       "2   Abstract Background  Non-small cell lung canc...      2  \n",
       "3  Recent evidence has demonstrated that acquired...      3  \n",
       "4  Oncogenic mutations in the monomeric Casitas B...      4  "
      ]
     },
     "execution_count": 19,
     "metadata": {},
     "output_type": "execute_result"
    }
   ],
   "source": [
    "Final_Data.head()"
   ]
  },
  {
   "cell_type": "code",
   "execution_count": 20,
   "metadata": {},
   "outputs": [
    {
     "name": "stdout",
     "output_type": "stream",
     "text": [
      "1109\n",
      "1277\n",
      "1407\n",
      "1639\n",
      "2755\n"
     ]
    }
   ],
   "source": [
    "#checking for rows having text column as nan\n",
    "for index, textinfo in Final_Data.iterrows():\n",
    "    if type(textinfo[\"Text\"]) is not str:\n",
    "        print(index)"
   ]
  },
  {
   "cell_type": "code",
   "execution_count": 21,
   "metadata": {},
   "outputs": [],
   "source": [
    "#removing rows with text data as nan\n",
    "for index, textinfo in Final_Data.iterrows():\n",
    "    if type(textinfo[\"Text\"]) is not str:\n",
    "        Final_Data.drop(index, axis = 0, inplace = True)"
   ]
  },
  {
   "cell_type": "code",
   "execution_count": 22,
   "metadata": {},
   "outputs": [
    {
     "data": {
      "text/plain": [
       "(3316, 5)"
      ]
     },
     "execution_count": 22,
     "metadata": {},
     "output_type": "execute_result"
    }
   ],
   "source": [
    "Final_Data.shape"
   ]
  },
  {
   "cell_type": "code",
   "execution_count": 23,
   "metadata": {},
   "outputs": [],
   "source": [
    "def pre_processing(clinicalText, indexNumber, columnName):\n",
    "    if type(clinicalText) is not int:\n",
    "        textString = \"\"\n",
    "        #removing special characters\n",
    "        clinicalText1 = re.sub('[^a-zA-Z0-9\\n]', ' ', clinicalText)\n",
    "        #remove any spaces\n",
    "        clinicalText2 = re.sub('\\s+', ' ', clinicalText1)\n",
    "        #converting text to lowercase\n",
    "        textString += clinicalText2.lower()\n",
    "        Final_Data[columnName][indexNumber] = textString"
   ]
  },
  {
   "cell_type": "code",
   "execution_count": null,
   "metadata": {},
   "outputs": [],
   "source": []
  },
  {
   "cell_type": "code",
   "execution_count": 29,
   "metadata": {},
   "outputs": [
    {
     "data": {
      "text/html": [
       "<div>\n",
       "<style scoped>\n",
       "    .dataframe tbody tr th:only-of-type {\n",
       "        vertical-align: middle;\n",
       "    }\n",
       "\n",
       "    .dataframe tbody tr th {\n",
       "        vertical-align: top;\n",
       "    }\n",
       "\n",
       "    .dataframe thead th {\n",
       "        text-align: right;\n",
       "    }\n",
       "</style>\n",
       "<table border=\"1\" class=\"dataframe\">\n",
       "  <thead>\n",
       "    <tr style=\"text-align: right;\">\n",
       "      <th></th>\n",
       "      <th>ID</th>\n",
       "      <th>Gene</th>\n",
       "      <th>Variation</th>\n",
       "      <th>Text</th>\n",
       "      <th>Class</th>\n",
       "    </tr>\n",
       "  </thead>\n",
       "  <tbody>\n",
       "    <tr>\n",
       "      <th>0</th>\n",
       "      <td>0</td>\n",
       "      <td>FAM58A</td>\n",
       "      <td>Truncating_Mutations</td>\n",
       "      <td>Cyclin-dependent kinases (CDKs) regulate a var...</td>\n",
       "      <td>1</td>\n",
       "    </tr>\n",
       "    <tr>\n",
       "      <th>1</th>\n",
       "      <td>1</td>\n",
       "      <td>CBL</td>\n",
       "      <td>W802*</td>\n",
       "      <td>Abstract Background  Non-small cell lung canc...</td>\n",
       "      <td>2</td>\n",
       "    </tr>\n",
       "    <tr>\n",
       "      <th>2</th>\n",
       "      <td>2</td>\n",
       "      <td>CBL</td>\n",
       "      <td>Q249E</td>\n",
       "      <td>Abstract Background  Non-small cell lung canc...</td>\n",
       "      <td>2</td>\n",
       "    </tr>\n",
       "    <tr>\n",
       "      <th>3</th>\n",
       "      <td>3</td>\n",
       "      <td>CBL</td>\n",
       "      <td>N454D</td>\n",
       "      <td>Recent evidence has demonstrated that acquired...</td>\n",
       "      <td>3</td>\n",
       "    </tr>\n",
       "    <tr>\n",
       "      <th>4</th>\n",
       "      <td>4</td>\n",
       "      <td>CBL</td>\n",
       "      <td>L399V</td>\n",
       "      <td>Oncogenic mutations in the monomeric Casitas B...</td>\n",
       "      <td>4</td>\n",
       "    </tr>\n",
       "  </tbody>\n",
       "</table>\n",
       "</div>"
      ],
      "text/plain": [
       "   ID    Gene             Variation  \\\n",
       "0   0  FAM58A  Truncating_Mutations   \n",
       "1   1     CBL                 W802*   \n",
       "2   2     CBL                 Q249E   \n",
       "3   3     CBL                 N454D   \n",
       "4   4     CBL                 L399V   \n",
       "\n",
       "                                                Text  Class  \n",
       "0  Cyclin-dependent kinases (CDKs) regulate a var...      1  \n",
       "1   Abstract Background  Non-small cell lung canc...      2  \n",
       "2   Abstract Background  Non-small cell lung canc...      2  \n",
       "3  Recent evidence has demonstrated that acquired...      3  \n",
       "4  Oncogenic mutations in the monomeric Casitas B...      4  "
      ]
     },
     "execution_count": 29,
     "metadata": {},
     "output_type": "execute_result"
    }
   ],
   "source": [
    "Final_Data.head()"
   ]
  },
  {
   "cell_type": "code",
   "execution_count": 30,
   "metadata": {},
   "outputs": [],
   "source": [
    "Final_Data_Labels = Final_Data[\"Class\"]"
   ]
  },
  {
   "cell_type": "code",
   "execution_count": 31,
   "metadata": {},
   "outputs": [
    {
     "data": {
      "text/plain": [
       "((3316, 5), (3316,))"
      ]
     },
     "execution_count": 31,
     "metadata": {},
     "output_type": "execute_result"
    }
   ],
   "source": [
    "Final_Data.shape, Final_Data_Labels.shape"
   ]
  },
  {
   "cell_type": "markdown",
   "metadata": {},
   "source": [
    "<h1>Train, cross-validation and test split</h1>\n",
    "<p> Split the dataset randomly into three parts train, cross validation and test with 64%,16%, 20% of data respectively.</p>"
   ]
  },
  {
   "cell_type": "code",
   "execution_count": 32,
   "metadata": {},
   "outputs": [],
   "source": [
    "#replacing any space with underscore\n",
    "Final_Data[\"Gene\"] = Final_Data[\"Gene\"].str.replace(\"\\s+\", \"_\")\n",
    "Final_Data[\"Variation\"] = Final_Data[\"Variation\"].str.replace(\"\\s+\", \"_\")"
   ]
  },
  {
   "cell_type": "code",
   "execution_count": 33,
   "metadata": {},
   "outputs": [
    {
     "data": {
      "text/html": [
       "<div>\n",
       "<style scoped>\n",
       "    .dataframe tbody tr th:only-of-type {\n",
       "        vertical-align: middle;\n",
       "    }\n",
       "\n",
       "    .dataframe tbody tr th {\n",
       "        vertical-align: top;\n",
       "    }\n",
       "\n",
       "    .dataframe thead th {\n",
       "        text-align: right;\n",
       "    }\n",
       "</style>\n",
       "<table border=\"1\" class=\"dataframe\">\n",
       "  <thead>\n",
       "    <tr style=\"text-align: right;\">\n",
       "      <th></th>\n",
       "      <th>ID</th>\n",
       "      <th>Gene</th>\n",
       "      <th>Variation</th>\n",
       "      <th>Text</th>\n",
       "      <th>Class</th>\n",
       "    </tr>\n",
       "  </thead>\n",
       "  <tbody>\n",
       "    <tr>\n",
       "      <th>0</th>\n",
       "      <td>0</td>\n",
       "      <td>FAM58A</td>\n",
       "      <td>Truncating_Mutations</td>\n",
       "      <td>Cyclin-dependent kinases (CDKs) regulate a var...</td>\n",
       "      <td>1</td>\n",
       "    </tr>\n",
       "    <tr>\n",
       "      <th>1</th>\n",
       "      <td>1</td>\n",
       "      <td>CBL</td>\n",
       "      <td>W802*</td>\n",
       "      <td>Abstract Background  Non-small cell lung canc...</td>\n",
       "      <td>2</td>\n",
       "    </tr>\n",
       "    <tr>\n",
       "      <th>2</th>\n",
       "      <td>2</td>\n",
       "      <td>CBL</td>\n",
       "      <td>Q249E</td>\n",
       "      <td>Abstract Background  Non-small cell lung canc...</td>\n",
       "      <td>2</td>\n",
       "    </tr>\n",
       "    <tr>\n",
       "      <th>3</th>\n",
       "      <td>3</td>\n",
       "      <td>CBL</td>\n",
       "      <td>N454D</td>\n",
       "      <td>Recent evidence has demonstrated that acquired...</td>\n",
       "      <td>3</td>\n",
       "    </tr>\n",
       "    <tr>\n",
       "      <th>4</th>\n",
       "      <td>4</td>\n",
       "      <td>CBL</td>\n",
       "      <td>L399V</td>\n",
       "      <td>Oncogenic mutations in the monomeric Casitas B...</td>\n",
       "      <td>4</td>\n",
       "    </tr>\n",
       "  </tbody>\n",
       "</table>\n",
       "</div>"
      ],
      "text/plain": [
       "   ID    Gene             Variation  \\\n",
       "0   0  FAM58A  Truncating_Mutations   \n",
       "1   1     CBL                 W802*   \n",
       "2   2     CBL                 Q249E   \n",
       "3   3     CBL                 N454D   \n",
       "4   4     CBL                 L399V   \n",
       "\n",
       "                                                Text  Class  \n",
       "0  Cyclin-dependent kinases (CDKs) regulate a var...      1  \n",
       "1   Abstract Background  Non-small cell lung canc...      2  \n",
       "2   Abstract Background  Non-small cell lung canc...      2  \n",
       "3  Recent evidence has demonstrated that acquired...      3  \n",
       "4  Oncogenic mutations in the monomeric Casitas B...      4  "
      ]
     },
     "execution_count": 33,
     "metadata": {},
     "output_type": "execute_result"
    }
   ],
   "source": [
    "Final_Data.head()"
   ]
  },
  {
   "cell_type": "code",
   "execution_count": 34,
   "metadata": {},
   "outputs": [],
   "source": [
    "X_Train, TestData, Y_Train, TestLabels = train_test_split(Final_Data, Final_Data_Labels, stratify=Final_Data_Labels, test_size=0.2)\n",
    "TrainData, CV_Data, TrainDataLabels, CV_Data_Labels = train_test_split(X_Train, Y_Train, stratify=Y_Train, test_size=0.2)\n",
    "\n",
    "# This stratify parameter makes a split so that the proportion of values in the sample produced will be the same as the \n",
    "# proportion of values provided to parameter stratify.\n",
    "# For example, if variable y is a binary categorical variable with values 0 and 1 and there are 25% of zeros and 75% of ones, \n",
    "# stratify=y will make sure that your random split has 25% of 0's and 75% of 1's."
   ]
  },
  {
   "cell_type": "code",
   "execution_count": 35,
   "metadata": {},
   "outputs": [
    {
     "data": {
      "text/plain": [
       "((2652, 5), (664, 5), (2652,), (664,))"
      ]
     },
     "execution_count": 35,
     "metadata": {},
     "output_type": "execute_result"
    }
   ],
   "source": [
    "X_Train.shape, TestData.shape, Y_Train.shape, TestLabels.shape"
   ]
  },
  {
   "cell_type": "code",
   "execution_count": 36,
   "metadata": {},
   "outputs": [
    {
     "name": "stdout",
     "output_type": "stream",
     "text": [
      "Number of data points in train data: 2121\n",
      "Number of data points in test data: 664\n",
      "Number of data points in cross validation data: 531\n"
     ]
    }
   ],
   "source": [
    "print('Number of data points in train data:', TrainData.shape[0])\n",
    "print('Number of data points in test data:', TestData.shape[0])\n",
    "print('Number of data points in cross validation data:', CV_Data.shape[0])"
   ]
  },
  {
   "cell_type": "markdown",
   "metadata": {},
   "source": [
    "<h1>Distribution of Class labels in Train, CV and Test data</h1>"
   ]
  },
  {
   "cell_type": "code",
   "execution_count": 37,
   "metadata": {},
   "outputs": [],
   "source": [
    "TrainData_distribution = TrainData[\"Class\"].value_counts().sort_index()\n",
    "CVData_distribution = CV_Data[\"Class\"].value_counts().sort_index()\n",
    "TestData_distribution = TestData[\"Class\"].value_counts().sort_index()"
   ]
  },
  {
   "cell_type": "code",
   "execution_count": 38,
   "metadata": {},
   "outputs": [],
   "source": [
    "TrainData_distribution_sorted = sorted(TrainData_distribution.items(), key = lambda d: d[1], reverse = True)\n",
    "CVData_distribution_sorted = sorted(CVData_distribution.items(), key = lambda d: d[1], reverse = True)\n",
    "TestData_distribution_sorted = sorted(TestData_distribution.items(), key = lambda d: d[1], reverse = True)"
   ]
  },
  {
   "cell_type": "code",
   "execution_count": 39,
   "metadata": {},
   "outputs": [
    {
     "data": {
      "image/png": "[encoded data removed]",
      "text/plain": [
       "<Figure size 720x432 with 1 Axes>"
      ]
     },
     "metadata": {
      "needs_background": "light"
     },
     "output_type": "display_data"
    },
    {
     "name": "stdout",
     "output_type": "stream",
     "text": [
      "Number of training data points in class 7 = 609(28.7129%)\n",
      "Number of training data points in class 4 = 439(20.6978%)\n",
      "Number of training data points in class 1 = 362(17.0674%)\n",
      "Number of training data points in class 2 = 289(13.6256%)\n",
      "Number of training data points in class 6 = 174(8.2037%)\n",
      "Number of training data points in class 5 = 155(7.3079%)\n",
      "Number of training data points in class 3 = 57(2.6874%)\n",
      "Number of training data points in class 9 = 24(1.1315%)\n",
      "Number of training data points in class 8 = 12(0.5658%)\n",
      "--------------------------------------------------------------------------------\n"
     ]
    },
    {
     "data": {
      "image/png": "[encoded data removed]",
      "text/plain": [
       "<Figure size 720x432 with 1 Axes>"
      ]
     },
     "metadata": {
      "needs_background": "light"
     },
     "output_type": "display_data"
    },
    {
     "name": "stdout",
     "output_type": "stream",
     "text": [
      "Number of CV data points in class 7 = 152(28.6252%)\n",
      "Number of CV data points in class 4 = 110(20.7156%)\n",
      "Number of CV data points in class 1 = 91(17.1375%)\n",
      "Number of CV data points in class 2 = 72(13.5593%)\n",
      "Number of CV data points in class 6 = 44(8.2863%)\n",
      "Number of CV data points in class 5 = 39(7.3446%)\n",
      "Number of CV data points in class 3 = 14(2.6365%)\n",
      "Number of CV data points in class 9 = 6(1.1299%)\n",
      "Number of CV data points in class 8 = 3(0.565%)\n",
      "--------------------------------------------------------------------------------\n"
     ]
    },
    {
     "data": {
      "image/png": "[encoded data removed]",
      "text/plain": [
       "<Figure size 720x432 with 1 Axes>"
      ]
     },
     "metadata": {
      "needs_background": "light"
     },
     "output_type": "display_data"
    },
    {
     "name": "stdout",
     "output_type": "stream",
     "text": [
      "Number of test data points in class 7 = 191(28.7651%)\n",
      "Number of test data points in class 4 = 137(20.6325%)\n",
      "Number of test data points in class 1 = 113(17.0181%)\n",
      "Number of test data points in class 2 = 91(13.7048%)\n",
      "Number of test data points in class 6 = 55(8.2831%)\n",
      "Number of test data points in class 5 = 48(7.2289%)\n",
      "Number of test data points in class 3 = 18(2.7108%)\n",
      "Number of test data points in class 9 = 7(1.0542%)\n",
      "Number of test data points in class 8 = 4(0.6024%)\n"
     ]
    }
   ],
   "source": [
    "plt.figure(figsize = (10, 6))\n",
    "TrainData_distribution.plot(kind = \"bar\")\n",
    "plt.grid()\n",
    "plt.title(\"Distribution of class labels in training data\", fontsize = 20)\n",
    "plt.xlabel(\"Class\", fontsize = 20)\n",
    "plt.ylabel(\"Number of Data Points\", fontsize = 20)\n",
    "plt.show()\n",
    "\n",
    "for i in TrainData_distribution_sorted:\n",
    "    print(\"Number of training data points in class \"+str(i[0])+\" = \"+str(i[1])+ \"(\"+str(np.round(((i[1]/TrainData.shape[0])*100), 4))+\"%)\")\n",
    "\n",
    "print(\"-\"*80)\n",
    "\n",
    "plt.figure(figsize = (10, 6))\n",
    "CVData_distribution.plot(kind = \"bar\")\n",
    "plt.grid()\n",
    "plt.title(\"Distribution of class labels in validation data\", fontsize = 20)\n",
    "plt.xlabel(\"Class\", fontsize = 20)\n",
    "plt.ylabel(\"Number of Data Points\", fontsize = 20)\n",
    "plt.show()\n",
    "\n",
    "for i in CVData_distribution_sorted:\n",
    "    print(\"Number of CV data points in class \"+str(i[0])+\" = \"+str(i[1])+ \"(\"+str(np.round(((i[1]/CV_Data.shape[0])*100), 4))+\"%)\")\n",
    "\n",
    "print(\"-\"*80)\n",
    "\n",
    "plt.figure(figsize = (10, 6))\n",
    "TestData_distribution.plot(kind = \"bar\")\n",
    "plt.grid()\n",
    "plt.title(\"Distribution of class labels in test data\", fontsize = 20)\n",
    "plt.xlabel(\"Class\", fontsize = 20)\n",
    "plt.ylabel(\"Number of Data Points\", fontsize = 20)\n",
    "plt.show()\n",
    "\n",
    "for i in TestData_distribution_sorted:\n",
    "    print(\"Number of test data points in class \"+str(i[0])+\" = \"+str(i[1])+ \"(\"+str(np.round(((i[1]/TestData.shape[0])*100), 4))+\"%)\")\n"
   ]
  },
  {
   "cell_type": "markdown",
   "metadata": {},
   "source": []
  },
  {
   "cell_type": "code",
   "execution_count": 40,
   "metadata": {},
   "outputs": [],
   "source": [
    "def print_confusionMatrix(Y_TestLabels, PredictedLabels):\n",
    "    confusionMatx = confusion_matrix(Y_TestLabels, PredictedLabels)\n",
    "    \n",
    "    precision = confusionMatx/confusionMatx.sum(axis = 0)\n",
    "    \n",
    "    recall = (confusionMatx.T/confusionMatx.sum(axis = 1)).T\n",
    "    \n",
    "    labels = [i for i in range(1, 10)]\n",
    "    \n",
    "    plt.figure(figsize=(20,7))\n",
    "    sns.heatmap(confusionMatx, cmap = \"Reds\", annot = True, xticklabels=labels, yticklabels=labels)\n",
    "    plt.title(\"Confusion Matrix\", fontsize = 30)\n",
    "    plt.xlabel('Predicted Class', fontsize = 20)\n",
    "    plt.ylabel('Original Class', fontsize = 20)\n",
    "    plt.show()\n",
    "    \n",
    "    print(\"-\"*125)\n",
    "    \n",
    "    plt.figure(figsize=(20,7))\n",
    "    sns.heatmap(precision, cmap = \"Reds\", annot = True, fmt = \".4f\", xticklabels=labels, yticklabels=labels)\n",
    "    plt.title(\"Precision Matrix\", fontsize = 30)\n",
    "    plt.xlabel('Predicted Class', fontsize = 20)\n",
    "    plt.ylabel('Original Class', fontsize = 20)\n",
    "    plt.show()\n",
    "    \n",
    "    print(\"-\"*125)\n",
    "    \n",
    "    plt.figure(figsize=(20,7))\n",
    "    sns.heatmap(recall, cmap = \"Reds\", annot = True, fmt = \".3f\", xticklabels=labels, yticklabels=labels)\n",
    "    plt.title(\"Recall Matrix\", fontsize = 30)\n",
    "    plt.xlabel('Predicted Class', fontsize = 20)\n",
    "    plt.ylabel('Original Class', fontsize = 20)\n",
    "    plt.show()"
   ]
  },
  {
   "cell_type": "code",
   "execution_count": null,
   "metadata": {},
   "outputs": [],
   "source": []
  },
  {
   "cell_type": "code",
   "execution_count": 41,
   "metadata": {},
   "outputs": [],
   "source": [
    "def response_coded_featureDict(alpha, feature, df):\n",
    "    \n",
    "    value_count = TrainData[feature].value_counts()\n",
    "    rc_values = dict()\n",
    "    \n",
    "    for i, denominator in value_count.items():\n",
    "        vec = []\n",
    "        for k in range(1, 10):\n",
    "            cls_cnt = TrainData.loc[(TrainData[\"Class\"]==k) & (TrainData[feature]==i)]\n",
    "# build a vector (1*9) , the first element = (number of times it occured in class1 + 10*alpha / number of time it occurred in total data+(90*alpha))\n",
    "# here, adding 10*alpha in numerator and 90*alpha in denominator is nothing but laplace smoothing which we did in Naive Bayes \n",
    "            vec.append((cls_cnt.shape[0] + 10*alpha)/denominator + (90*alpha))    \n",
    "        rc_values[i] = vec\n",
    "    return rc_values\n",
    "\n",
    "\n",
    "def response_coded_values(alpha, feature, df):\n",
    "    get_rc_values = response_coded_featureDict(alpha, feature, df)\n",
    "    get_value_count = TrainData[feature].value_counts()\n",
    "    get_feat_values = []\n",
    "    for index, row in df.iterrows():\n",
    "        if row[feature] in dict(get_value_count).keys():\n",
    "            get_feat_values.append(get_rc_values[row[feature]])\n",
    "        else:\n",
    "            get_feat_values.append([1/9,1/9,1/9,1/9,1/9,1/9,1/9,1/9,1/9])\n",
    "    return get_feat_values"
   ]
  },
  {
   "cell_type": "markdown",
   "metadata": {},
   "source": [
    "When we calculate the probability of a feature belongs to any particular class, we apply laplace smoothing\n",
    "<li>(numerator + alpha) / (denominator + (9*alpha)) </li>"
   ]
  },
  {
   "cell_type": "markdown",
   "metadata": {},
   "source": [
    "<h1>Univariate Analysis on Gene Feature</h1>"
   ]
  },
  {
   "cell_type": "markdown",
   "metadata": {},
   "source": [
    "<p> <b>Q1.</b> Gene, What type of feature it is ?</p>\n",
    "<p><b>Ans.</b> Gene is a categorical variable </p>\n",
    "<p> <b>Q2.</b> How many categories are there and how they are distributed?</p>"
   ]
  },
  {
   "cell_type": "code",
   "execution_count": 42,
   "metadata": {},
   "outputs": [
    {
     "name": "stdout",
     "output_type": "stream",
     "text": [
      "Number of Unique genes = 229\n",
      "BRCA1     174\n",
      "TP53      107\n",
      "EGFR       91\n",
      "PTEN       81\n",
      "BRCA2      70\n",
      "KIT        65\n",
      "BRAF       57\n",
      "ERBB2      42\n",
      "ALK        42\n",
      "PIK3CA     35\n",
      "Name: Gene, dtype: int64\n"
     ]
    }
   ],
   "source": [
    "unique_genes = TrainData[\"Gene\"].value_counts()\n",
    "print(\"Number of Unique genes = \"+str(unique_genes.shape[0]))\n",
    "print(unique_genes.head(10))"
   ]
  },
  {
   "cell_type": "code",
   "execution_count": 43,
   "metadata": {},
   "outputs": [
    {
     "name": "stdout",
     "output_type": "stream",
     "text": [
      "Ans: There are 229 different categories of genes in the train data, and they are distibuted as follows:\n"
     ]
    }
   ],
   "source": [
    "print(\"Ans: There are\", unique_genes.shape[0] ,\"different categories of genes in the train data, and they are distibuted as follows:\")"
   ]
  },
  {
   "cell_type": "code",
   "execution_count": 44,
   "metadata": {},
   "outputs": [
    {
     "data": {
      "image/png": "[encoded data removed]",
      "text/plain": [
       "<Figure size 720x432 with 1 Axes>"
      ]
     },
     "metadata": {
      "needs_background": "light"
     },
     "output_type": "display_data"
    }
   ],
   "source": [
    "s = sum(unique_genes.values)\n",
    "h = unique_genes.values/s\n",
    "plt.figure(figsize = (10, 6))\n",
    "plt.plot(h)\n",
    "plt.title(\"Histrogram of Genes\", fontsize = 20)\n",
    "plt.xlabel('Index of a Gene', fontsize = 20)\n",
    "plt.ylabel('Number of Occurances', fontsize = 20)\n",
    "plt.grid()\n",
    "plt.show()"
   ]
  },
  {
   "cell_type": "code",
   "execution_count": 45,
   "metadata": {},
   "outputs": [
    {
     "data": {
      "image/png": "[encoded data removed]",
      "text/plain": [
       "<Figure size 720x432 with 1 Axes>"
      ]
     },
     "metadata": {
      "needs_background": "light"
     },
     "output_type": "display_data"
    }
   ],
   "source": [
    "s = sum(unique_genes.values)\n",
    "h = unique_genes.values/s\n",
    "plt.figure(figsize = (10, 6))\n",
    "plt.plot(np.cumsum(h))\n",
    "plt.title(\"Cumulative plot of Genes\", fontsize = 20)\n",
    "plt.xlabel('Index of a Gene', fontsize = 20)\n",
    "plt.ylabel('Percentage of Occurances', fontsize = 20)\n",
    "plt.grid()\n",
    "plt.show()"
   ]
  },
  {
   "cell_type": "markdown",
   "metadata": {},
   "source": [
    "<p> <b>Q3.</b> How to featurize this Gene feature ?</p>\n",
    "<ol><li>Response Coding</li><li>One-hot Coding</li></ol>"
   ]
  },
  {
   "cell_type": "code",
   "execution_count": null,
   "metadata": {},
   "outputs": [],
   "source": []
  },
  {
   "cell_type": "code",
   "execution_count": null,
   "metadata": {},
   "outputs": [],
   "source": []
  },
  {
   "cell_type": "code",
   "execution_count": null,
   "metadata": {},
   "outputs": [],
   "source": []
  },
  {
   "cell_type": "code",
   "execution_count": 46,
   "metadata": {},
   "outputs": [],
   "source": [
    "geneVectorizer = CountVectorizer()\n",
    "train_gene_feature_onehotCoding = geneVectorizer.fit_transform(TrainData['Gene'])\n",
    "test_gene_feature_onehotCoding = geneVectorizer.transform(TestData['Gene'])\n",
    "cv_gene_feature_onehotCoding = geneVectorizer.transform(CV_Data['Gene'])"
   ]
  },
  {
   "cell_type": "code",
   "execution_count": 47,
   "metadata": {},
   "outputs": [
    {
     "name": "stdout",
     "output_type": "stream",
     "text": [
      "Size of one-hot encoded features in train data = (2121, 228)\n",
      "Size of one-hot encoded features in test data = (664, 228)\n",
      "Size of one-hot encoded features in CV data = (531, 228)\n"
     ]
    }
   ],
   "source": [
    "print(\"Size of one-hot encoded features in train data = \"+str(train_gene_feature_onehotCoding.shape))\n",
    "print(\"Size of one-hot encoded features in test data = \"+str(test_gene_feature_onehotCoding.shape))\n",
    "print(\"Size of one-hot encoded features in CV data = \"+str(cv_gene_feature_onehotCoding.shape))"
   ]
  },
  {
   "cell_type": "markdown",
   "metadata": {},
   "source": [
    "<h3>Q4. How good is this gene feature in predicting y_i?</h3>\n",
    "<p>There are many ways to estimate how good a feature is, in predicting y_i. One of the good methods is to build a proper ML model using just this feature. In this case, we will build a logistic regression model using only Gene feature (one hot encoded) to predict y_i.</p>"
   ]
  },
  {
   "cell_type": "code",
   "execution_count": 48,
   "metadata": {},
   "outputs": [
    {
     "name": "stdout",
     "output_type": "stream",
     "text": [
      "For alpha value of 1e-05 CV log loss = 1.244407017996614\n",
      "For alpha value of 0.0001 CV log loss = 1.2236147935553234\n",
      "For alpha value of 0.001 CV log loss = 1.2634287653226461\n",
      "For alpha value of 0.01 CV log loss = 1.3694916361428768\n",
      "For alpha value of 0.1 CV log loss = 1.446977296937574\n",
      "For alpha value of 1 CV log loss = 1.4943477915070729\n"
     ]
    },
    {
     "data": {
      "image/png": "[encoded data removed]",
      "text/plain": [
       "<Figure size 864x504 with 1 Axes>"
      ]
     },
     "metadata": {
      "needs_background": "light"
     },
     "output_type": "display_data"
    }
   ],
   "source": [
    "alpha = [10 ** x for x in range(-5, 1)]\n",
    "\n",
    "cv_log_loss = []\n",
    "for i in alpha:\n",
    "    clf = SGDClassifier(alpha=i, penalty='l2', loss='log', random_state=42)\n",
    "    clf.fit(train_gene_feature_onehotCoding, TrainDataLabels)\n",
    "    calib_clf = CalibratedClassifierCV(clf, method = \"sigmoid\")\n",
    "    #this is a cross-validation\n",
    "    calib_clf.fit(train_gene_feature_onehotCoding, TrainDataLabels)\n",
    "    predicted_y = calib_clf.predict_proba(cv_gene_feature_onehotCoding)\n",
    "    cv_log_loss.append(log_loss(CV_Data_Labels, predicted_y, labels=clf.classes_))\n",
    "    print(\"For alpha value of \"+str(i)+\" CV log loss = \"+str(log_loss(CV_Data_Labels, predicted_y, labels=clf.classes_)))\n",
    "\n",
    "plt.figure(figsize = (12, 7))\n",
    "plt.plot(alpha, cv_log_loss)\n",
    "for xy in zip(alpha, np.round(cv_log_loss, 4)):\n",
    "    plt.annotate(xy, xy)\n",
    "    \n",
    "plt.title(\"Alpha vs Log-loss\", fontsize = 20)\n",
    "plt.xlabel(\"Alpha\", fontsize = 20)\n",
    "plt.ylabel(\"Log-Loss\", fontsize = 20)\n",
    "plt.show()"
   ]
  },
  {
   "cell_type": "code",
   "execution_count": 49,
   "metadata": {},
   "outputs": [
    {
     "name": "stdout",
     "output_type": "stream",
     "text": [
      "For values of best alpha =  0.0001 the train log loss =: 0.9860858183168849\n",
      "For values of best alpha =  0.0001 the CV log loss =: 1.2236147935553234\n",
      "For values of best alpha =  0.0001 the test log loss =: 1.1604878365129419\n"
     ]
    }
   ],
   "source": [
    "best_alpha = alpha[np.argmin(cv_log_loss)]\n",
    "clf = SGDClassifier(alpha=best_alpha, penalty='l2', loss='log', random_state=42)\n",
    "clf.fit(train_gene_feature_onehotCoding, TrainDataLabels)\n",
    "calib_clf = CalibratedClassifierCV(clf, method = \"sigmoid\")\n",
    "calib_clf.fit(train_gene_feature_onehotCoding, TrainDataLabels)\n",
    "\n",
    "predict_train = calib_clf.predict_proba(train_gene_feature_onehotCoding)\n",
    "print('For values of best alpha = ', best_alpha, \"the train log loss =:\",log_loss(TrainDataLabels, predict_train, labels=clf.classes_))\n",
    "\n",
    "predict_cv = calib_clf.predict_proba(cv_gene_feature_onehotCoding)\n",
    "print('For values of best alpha = ', best_alpha, \"the CV log loss =:\",log_loss(CV_Data_Labels, predict_cv, labels=clf.classes_))\n",
    "\n",
    "predict_test = calib_clf.predict_proba(test_gene_feature_onehotCoding)\n",
    "print('For values of best alpha = ', best_alpha, \"the test log loss =:\",log_loss(TestLabels, predict_test, labels=clf.classes_))"
   ]
  },
  {
   "cell_type": "markdown",
   "metadata": {},
   "source": [
    "<h3>Q5. Is the Gene feature stable across all the data sets (Test, Train, Cross validation)?</h3>\n",
    "<p> <b>Ans:</b> Yes, it is. Otherwise, the CV and Test errors would be significantly more than train error.</p>"
   ]
  },
  {
   "cell_type": "code",
   "execution_count": 50,
   "metadata": {},
   "outputs": [
    {
     "name": "stdout",
     "output_type": "stream",
     "text": [
      "Ques: How many common gene features are there in train, cv and test data?\n",
      "Ans:\n",
      "Percentage of common gene features in test and train data = 96.23%\n",
      "Percentage of common gene features in CV and train data = 96.61%\n"
     ]
    }
   ],
   "source": [
    "print(\"Ques: How many common gene features are there in train, cv and test data?\")\n",
    "gene_common_in_test = TestData[TestData[\"Gene\"].isin(TrainData[\"Gene\"])].shape[0]\n",
    "gene_common_in_cv = CV_Data[CV_Data[\"Gene\"].isin(TrainData[\"Gene\"])].shape[0]\n",
    "print(\"Ans:\")\n",
    "print(\"Percentage of common gene features in test and train data = \"+str(np.round((gene_common_in_test/TestData.shape[0])*100, 2))+\"%\")\n",
    "#it prints: Out of total features in test data, how many features are also present in train data\n",
    "print(\"Percentage of common gene features in CV and train data = \"+str(np.round((gene_common_in_cv/CV_Data.shape[0])*100, 2))+\"%\")\n",
    "#it prints: Out of total features in cv data, how many features are also present in train data"
   ]
  },
  {
   "cell_type": "markdown",
   "metadata": {},
   "source": [
    "<h1>Univariate Analysis on Variation Feature</h1>"
   ]
  },
  {
   "cell_type": "markdown",
   "metadata": {},
   "source": [
    "<p>Q1. Variation, What type of feature is it?</p>\n",
    "<p><b>Ans.</b> Variation is a categorical variable</p>\n",
    "<p>Q2. How many categories are there?</p>"
   ]
  },
  {
   "cell_type": "code",
   "execution_count": 51,
   "metadata": {},
   "outputs": [
    {
     "name": "stdout",
     "output_type": "stream",
     "text": [
      "Number of Unique variations = 1918\n",
      "Truncating_Mutations    62\n",
      "Deletion                47\n",
      "Amplification           45\n",
      "Fusions                 25\n",
      "Overexpression           4\n",
      "E17K                     3\n",
      "T58I                     3\n",
      "G12A                     2\n",
      "Q61K                     2\n",
      "F384L                    2\n",
      "Name: Variation, dtype: int64\n"
     ]
    }
   ],
   "source": [
    "unique_variation = TrainData[\"Variation\"].value_counts()\n",
    "print(\"Number of Unique variations = \"+str(unique_variation.shape[0]))\n",
    "print(unique_variation.head(10))"
   ]
  },
  {
   "cell_type": "code",
   "execution_count": 52,
   "metadata": {},
   "outputs": [
    {
     "name": "stdout",
     "output_type": "stream",
     "text": [
      "Ans: There are 1918 different categories of variations in the train data, and they are distibuted as follows:\n"
     ]
    }
   ],
   "source": [
    "print(\"Ans: There are\", unique_variation.shape[0] ,\"different categories of variations in the train data, and they are distibuted as follows:\")"
   ]
  },
  {
   "cell_type": "code",
   "execution_count": 53,
   "metadata": {},
   "outputs": [
    {
     "data": {
      "image/png": "[encoded data removed]",
      "text/plain": [
       "<Figure size 720x432 with 1 Axes>"
      ]
     },
     "metadata": {
      "needs_background": "light"
     },
     "output_type": "display_data"
    }
   ],
   "source": [
    "s = sum(unique_variation.values)\n",
    "h = unique_variation.values/s\n",
    "plt.figure(figsize = (10, 6))\n",
    "plt.plot(h)\n",
    "plt.title(\"Histrogram of Variations\", fontsize = 20)\n",
    "plt.xlabel('Index of a Variation', fontsize = 20)\n",
    "plt.ylabel('Number of Occurances', fontsize = 20)\n",
    "plt.grid()\n",
    "plt.show()"
   ]
  },
  {
   "cell_type": "code",
   "execution_count": 54,
   "metadata": {},
   "outputs": [
    {
     "data": {
      "image/png": "[encoded data removed]",
      "text/plain": [
       "<Figure size 720x432 with 1 Axes>"
      ]
     },
     "metadata": {
      "needs_background": "light"
     },
     "output_type": "display_data"
    }
   ],
   "source": [
    "s = sum(unique_variation.values)\n",
    "h = unique_variation.values/s\n",
    "c = np.cumsum(h)\n",
    "plt.figure(figsize = (10, 6))\n",
    "plt.plot(c)\n",
    "plt.title(\"Cumulative plot of Variations\", fontsize = 20)\n",
    "plt.xlabel('Index of a Variation', fontsize = 20)\n",
    "plt.ylabel('Percentage of Occurrences', fontsize = 20)\n",
    "plt.grid()\n",
    "plt.show()"
   ]
  },
  {
   "cell_type": "markdown",
   "metadata": {},
   "source": [
    "<p> <b>Q3.</b> How to featurize this Variation feature ?</p>\n",
    "<ol><li>One-hot Coding</li></ol>"
   ]
  },
  {
   "cell_type": "code",
   "execution_count": 55,
   "metadata": {},
   "outputs": [],
   "source": [
    "variationVectorizer = CountVectorizer()\n",
    "train_variation_feature_onehotCoding = variationVectorizer.fit_transform(TrainData['Variation'])\n",
    "test_variation_feature_onehotCoding = variationVectorizer.transform(TestData['Variation'])\n",
    "cv_variation_feature_onehotCoding = variationVectorizer.transform(CV_Data['Variation'])"
   ]
  },
  {
   "cell_type": "code",
   "execution_count": 56,
   "metadata": {},
   "outputs": [
    {
     "name": "stdout",
     "output_type": "stream",
     "text": [
      "Size of one-hot encoded features in train data = (2121, 1948)\n",
      "Size of one-hot encoded features in test data = (664, 1948)\n",
      "Size of one-hot encoded features in CV data = (531, 1948)\n"
     ]
    }
   ],
   "source": [
    "print(\"Size of one-hot encoded features in train data = \"+str(train_variation_feature_onehotCoding.shape))\n",
    "print(\"Size of one-hot encoded features in test data = \"+str(test_variation_feature_onehotCoding.shape))\n",
    "print(\"Size of one-hot encoded features in CV data = \"+str(cv_variation_feature_onehotCoding.shape))"
   ]
  },
  {
   "cell_type": "markdown",
   "metadata": {},
   "source": [
    "<h3>Q4. How good is this Variation feature in predicting y_i?</h3>\n",
    "<p>There are many ways to estimate how good a feature is, in predicting y_i. One of the good methods is to build a proper ML model using just this feature. In this case, we will build a logistic regression model using only Variation feature (one hot encoded) to predict y_i.</p>"
   ]
  },
  {
   "cell_type": "code",
   "execution_count": 57,
   "metadata": {},
   "outputs": [
    {
     "name": "stdout",
     "output_type": "stream",
     "text": [
      "For alpha value of 1e-05 CV log loss = 1.7148231310754665\n",
      "For alpha value of 0.0001 CV log loss = 1.7054534487653776\n",
      "For alpha value of 0.001 CV log loss = 1.7126893373874694\n",
      "For alpha value of 0.01 CV log loss = 1.7232276952213184\n",
      "For alpha value of 0.1 CV log loss = 1.7245126527932988\n",
      "For alpha value of 1 CV log loss = 1.7250032680622196\n"
     ]
    },
    {
     "data": {
      "image/png": "[encoded data removed]",
      "text/plain": [
       "<Figure size 864x504 with 1 Axes>"
      ]
     },
     "metadata": {
      "needs_background": "light"
     },
     "output_type": "display_data"
    }
   ],
   "source": [
    "alpha = [10 ** x for x in range(-5, 1)]\n",
    "\n",
    "cv_log_loss = []\n",
    "for i in alpha:\n",
    "    clf = SGDClassifier(alpha=i, penalty='l2', loss='log', random_state=42)\n",
    "    clf.fit(train_variation_feature_onehotCoding, TrainDataLabels)\n",
    "    calib_clf = CalibratedClassifierCV(clf, method = \"sigmoid\")\n",
    "    calib_clf.fit(train_variation_feature_onehotCoding, TrainDataLabels)\n",
    "    predicted_y = calib_clf.predict_proba(cv_variation_feature_onehotCoding)\n",
    "    cv_log_loss.append(log_loss(CV_Data_Labels, predicted_y, labels=clf.classes_))\n",
    "    print(\"For alpha value of \"+str(i)+\" CV log loss = \"+str(log_loss(CV_Data_Labels, predicted_y, labels=clf.classes_)))\n",
    "\n",
    "plt.figure(figsize = (12, 7))\n",
    "plt.plot(alpha, cv_log_loss)\n",
    "for xy in zip(alpha, np.round(cv_log_loss, 4)):\n",
    "    plt.annotate(xy, xy)\n",
    "    \n",
    "plt.title(\"Alpha vs Log-loss\", fontsize = 20)\n",
    "plt.xlabel(\"Alpha\", fontsize = 20)\n",
    "plt.ylabel(\"Log-Loss\", fontsize = 20)\n",
    "plt.show()"
   ]
  },
  {
   "cell_type": "code",
   "execution_count": 58,
   "metadata": {},
   "outputs": [
    {
     "name": "stdout",
     "output_type": "stream",
     "text": [
      "For values of best alpha =  0.0001 the train log loss =: 0.7134851851397425\n",
      "For values of best alpha =  0.0001 the CV log loss =: 1.7054534487653776\n",
      "For values of best alpha =  0.0001 the test log loss =: 1.72431338180913\n"
     ]
    }
   ],
   "source": [
    "best_alpha = alpha[np.argmin(cv_log_loss)]\n",
    "clf = SGDClassifier(alpha=best_alpha, penalty='l2', loss='log', random_state=42)\n",
    "clf.fit(train_variation_feature_onehotCoding, TrainDataLabels)\n",
    "calib_clf = CalibratedClassifierCV(clf, method = \"sigmoid\")\n",
    "calib_clf.fit(train_variation_feature_onehotCoding, TrainDataLabels)\n",
    "\n",
    "predict_train = calib_clf.predict_proba(train_variation_feature_onehotCoding)\n",
    "print('For values of best alpha = ', best_alpha, \"the train log loss =:\",log_loss(TrainDataLabels, predict_train, labels=clf.classes_))\n",
    "\n",
    "predict_cv = calib_clf.predict_proba(cv_variation_feature_onehotCoding)\n",
    "print('For values of best alpha = ', best_alpha, \"the CV log loss =:\",log_loss(CV_Data_Labels, predict_cv, labels=clf.classes_))\n",
    "\n",
    "predict_test = calib_clf.predict_proba(test_variation_feature_onehotCoding)\n",
    "print('For values of best alpha = ', best_alpha, \"the test log loss =:\",log_loss(TestLabels, predict_test, labels=clf.classes_))"
   ]
  },
  {
   "cell_type": "markdown",
   "metadata": {},
   "source": [
    "<h3>Q5. Is the Variation feature stable across all the data sets (Test, Train, Cross validation)?</h3>\n",
    "<p> <b>Ans:</b> Not sure, let's check it out.</p>"
   ]
  },
  {
   "cell_type": "code",
   "execution_count": 59,
   "metadata": {},
   "outputs": [
    {
     "name": "stdout",
     "output_type": "stream",
     "text": [
      "Ques: How many common variation features are there in train, cv and test data?\n",
      "Ans:\n",
      "Percentage of common Variation features in test and train data = 9.34%\n",
      "Percentage of common Variation features in CV and train data = 10.17%\n"
     ]
    }
   ],
   "source": [
    "print(\"Ques: How many common variation features are there in train, cv and test data?\")\n",
    "variation_common_in_test = TestData[TestData[\"Variation\"].isin(TrainData[\"Variation\"])].shape[0]\n",
    "variation_common_in_cv = CV_Data[CV_Data[\"Variation\"].isin(TrainData[\"Variation\"])].shape[0]\n",
    "print(\"Ans:\")\n",
    "print(\"Percentage of common Variation features in test and train data = \"+str(np.round((variation_common_in_test/TestData.shape[0])*100, 2))+\"%\")\n",
    "#it prints: Out of total features in test data, how many features are also present in train data\n",
    "print(\"Percentage of common Variation features in CV and train data = \"+str(np.round((variation_common_in_cv/CV_Data.shape[0])*100, 2))+\"%\")\n",
    "#it prints: Out of total features in cv data, how many features are also present in train data"
   ]
  },
  {
   "cell_type": "markdown",
   "metadata": {},
   "source": [
    "<h1>Univariate Analysis on Text Feature</h1>"
   ]
  },
  {
   "cell_type": "markdown",
   "metadata": {},
   "source": [
    "### How many unique words are present in train data?"
   ]
  },
  {
   "cell_type": "code",
   "execution_count": 60,
   "metadata": {},
   "outputs": [
    {
     "name": "stdout",
     "output_type": "stream",
     "text": [
      "Number of unique words in train data = 390670\n"
     ]
    }
   ],
   "source": [
    "dictt = defaultdict(int)\n",
    "for index, row in TrainData.iterrows():\n",
    "    for word in row['Text'].split():\n",
    "        dictt[word] += 1\n",
    "print(\"Number of unique words in train data = \"+str(len(dictt.keys())))"
   ]
  },
  {
   "cell_type": "markdown",
   "metadata": {},
   "source": [
    "<p>How to featurize text field?</p>\n",
    "<ol>\n",
    "    <li>TFIDF</li>\n",
    "</ol>"
   ]
  },
  {
   "cell_type": "markdown",
   "metadata": {},
   "source": [
    "<p><b>TFIDF</b></p>"
   ]
  },
  {
   "cell_type": "code",
   "execution_count": 61,
   "metadata": {},
   "outputs": [],
   "source": [
    "tfidf_vectorizer = TfidfVectorizer(ngram_range = (1,2), stop_words = \"english\", min_df = 3, max_features = 100000)\n",
    "\n",
    "train_text_feature_tfidf = tfidf_vectorizer.fit_transform(TrainData['Text'])\n",
    "train_text_feature_tfidf = StandardScaler(with_mean = False).fit_transform(train_text_feature_tfidf)\n",
    "\n",
    "test_text_feature_tfidf = tfidf_vectorizer.transform(TestData['Text'])\n",
    "test_text_feature_tfidf = StandardScaler(with_mean = False).fit_transform(test_text_feature_tfidf)\n",
    "\n",
    "cv_text_feature_tfidf = tfidf_vectorizer.transform(CV_Data['Text'])\n",
    "cv_text_feature_tfidf = StandardScaler(with_mean = False).fit_transform(cv_text_feature_tfidf)"
   ]
  },
  {
   "cell_type": "code",
   "execution_count": 62,
   "metadata": {},
   "outputs": [
    {
     "name": "stdout",
     "output_type": "stream",
     "text": [
      "Size of TFIDF coded text feature of Train Data = (2121, 100000)\n",
      "Size of TFIDF coded text feature of Test Data = (664, 100000)\n",
      "Size of TFIDF coded text feature of CV Data = (531, 100000)\n"
     ]
    }
   ],
   "source": [
    "print(\"Size of TFIDF coded text feature of Train Data = \"+str(train_text_feature_tfidf.shape))\n",
    "print(\"Size of TFIDF coded text feature of Test Data = \"+str(test_text_feature_tfidf.shape))\n",
    "print(\"Size of TFIDF coded text feature of CV Data = \"+str(cv_text_feature_tfidf.shape))"
   ]
  },
  {
   "cell_type": "markdown",
   "metadata": {},
   "source": [
    "### How are word frequencies distributed?"
   ]
  },
  {
   "cell_type": "code",
   "execution_count": 63,
   "metadata": {},
   "outputs": [],
   "source": [
    "count_vec = CountVectorizer(min_df = 3)\n",
    "TrainWordOccurrences = count_vec.fit_transform(TrainData['Text'])\n",
    "# getting all the feature names (words)\n",
    "TrainFeatures= count_vec.get_feature_names()\n",
    "\n",
    "# TrainWordOccurrences.sum(axis=0).A1 will sum every column and returns (1*number of features) vector\n",
    "wordOccurrenceDictionary = dict(zip(TrainFeatures,TrainWordOccurrences.sum(axis=0).A1))"
   ]
  },
  {
   "cell_type": "code",
   "execution_count": 64,
   "metadata": {},
   "outputs": [],
   "source": [
    "sortedWordOccurrenceDict = dict(sorted(wordOccurrenceDictionary.items(), key=lambda x: x[1] , reverse=True))"
   ]
  },
  {
   "cell_type": "code",
   "execution_count": 65,
   "metadata": {},
   "outputs": [],
   "source": [
    "sortedWordOccurrenceDictList = np.array(list(sortedWordOccurrenceDict.values()))"
   ]
  },
  {
   "cell_type": "code",
   "execution_count": 66,
   "metadata": {},
   "outputs": [],
   "source": [
    "NoOfWord_Occurrence = Counter(sortedWordOccurrenceDictList) \n",
    "#counter simply takes a list then it prints a dictionary. In that dictionary, keys are the number of elements and its values \n",
    "#are the number of times that element is occurring in that list."
   ]
  },
  {
   "cell_type": "code",
   "execution_count": 67,
   "metadata": {},
   "outputs": [
    {
     "name": "stdout",
     "output_type": "stream",
     "text": [
      "Counter({3: 6266, 4: 3314, 6: 3165, 5: 3018, 7: 1914, 9: 1824, 8: 1793, 11: 1413, 10: 1405, 12: 1385, 14: 1142, 15: 870, 18: 830, 13: 800, 16: 666, 20: 645, 21: 594, 19: 551, 24: 503, 17: 503, 22: 444, 25: 424, 23: 415, 38: 368, 27: 356, 29: 347, 44: 346, 30: 345, 33: 328, 26: 321, 28: 320, 32: 289, 36: 280, 40: 254, 37: 249, 31: 246, 34: 235, 35: 234, 45: 217, 42: 212, 48: 192, 39: 176, 50: 172, 41: 171, 46: 163, 55: 156, 43: 150, 54: 147, 47: 147, 60: 144, 61: 140, 49: 138, 52: 136, 70: 131, 59: 131, 56: 129, 51: 129, 88: 123, 63: 123, 53: 121, 57: 120, 65: 119, 58: 115, 72: 111, 64: 110, 68: 106, 62: 102, 66: 101, 84: 97, 71: 93, 73: 85, 67: 82, 76: 80, 74: 80, 77: 76, 78: 74, 75: 74, 79: 73, 80: 72, 83: 71, 89: 70, 69: 69, 96: 67, 82: 67, 109: 66, 93: 66, 90: 66, 91: 65, 86: 64, 99: 61, 87: 61, 108: 60, 105: 60, 85: 60, 97: 59, 92: 56, 132: 55, 101: 55, 95: 54, 81: 54, 110: 52, 94: 51, 103: 50, 100: 50, 130: 49, 115: 49, 111: 49, 114: 48, 98: 48, 113: 47, 119: 46, 102: 46, 135: 45, 128: 45, 117: 45, 120: 44, 107: 44, 106: 43, 104: 43, 150: 42, 145: 41, 140: 41, 125: 41, 131: 40, 122: 40, 139: 38, 112: 38, 148: 37, 129: 37, 126: 37, 116: 36, 182: 35, 152: 35, 147: 35, 133: 35, 118: 35, 136: 34, 123: 34, 193: 33, 127: 33, 121: 33, 170: 31, 155: 31, 146: 31, 206: 30, 134: 30, 173: 29, 163: 29, 151: 29, 142: 29, 138: 29, 124: 29, 239: 28, 161: 28, 157: 28, 137: 28, 220: 27, 167: 27, 162: 27, 153: 27, 149: 27, 143: 27, 181: 26, 169: 26, 165: 26, 159: 26, 144: 26, 210: 25, 207: 25, 200: 25, 190: 25, 189: 25, 175: 25, 171: 25, 158: 25, 141: 25, 276: 24, 185: 24, 183: 24, 180: 24, 178: 24, 166: 24, 214: 23, 203: 23, 199: 23, 184: 23, 154: 23, 164: 22, 160: 22, 230: 21, 227: 21, 224: 21, 222: 21, 186: 21, 172: 21, 262: 20, 256: 20, 201: 20, 177: 20, 176: 20, 168: 20, 156: 20, 264: 19, 235: 19, 233: 19, 228: 19, 223: 19, 216: 19, 198: 19, 195: 19, 257: 18, 254: 18, 221: 18, 218: 18, 197: 18, 194: 18, 278: 17, 251: 17, 244: 17, 229: 17, 196: 17, 192: 17, 188: 17, 187: 17, 317: 16, 308: 16, 246: 16, 243: 16, 236: 16, 212: 16, 211: 16, 204: 16, 202: 16, 191: 16, 174: 16, 316: 15, 310: 15, 297: 15, 295: 15, 288: 15, 285: 15, 272: 15, 270: 15, 269: 15, 250: 15, 247: 15, 242: 15, 241: 15, 215: 15, 209: 15, 347: 14, 306: 14, 287: 14, 286: 14, 274: 14, 260: 14, 225: 14, 219: 14, 213: 14, 205: 14, 377: 13, 351: 13, 330: 13, 328: 13, 315: 13, 304: 13, 300: 13, 292: 13, 273: 13, 263: 13, 249: 13, 232: 13, 217: 13, 399: 12, 363: 12, 350: 12, 329: 12, 327: 12, 301: 12, 296: 12, 291: 12, 281: 12, 277: 12, 266: 12, 259: 12, 258: 12, 252: 12, 248: 12, 240: 12, 234: 12, 231: 12, 476: 11, 462: 11, 455: 11, 395: 11, 385: 11, 381: 11, 345: 11, 344: 11, 343: 11, 336: 11, 334: 11, 307: 11, 289: 11, 279: 11, 267: 11, 261: 11, 255: 11, 253: 11, 238: 11, 237: 11, 226: 11, 208: 11, 179: 11, 567: 10, 512: 10, 456: 10, 446: 10, 382: 10, 373: 10, 340: 10, 324: 10, 321: 10, 320: 10, 314: 10, 313: 10, 302: 10, 293: 10, 290: 10, 265: 10, 245: 10, 625: 9, 522: 9, 513: 9, 444: 9, 431: 9, 412: 9, 380: 9, 379: 9, 370: 9, 369: 9, 356: 9, 352: 9, 333: 9, 326: 9, 323: 9, 319: 9, 298: 9, 294: 9, 282: 9, 280: 9, 268: 9, 690: 8, 645: 8, 623: 8, 588: 8, 532: 8, 507: 8, 453: 8, 451: 8, 449: 8, 447: 8, 434: 8, 433: 8, 413: 8, 410: 8, 407: 8, 378: 8, 371: 8, 362: 8, 348: 8, 341: 8, 331: 8, 322: 8, 312: 8, 309: 8, 284: 8, 283: 8, 271: 8, 663: 7, 647: 7, 608: 7, 543: 7, 536: 7, 521: 7, 498: 7, 494: 7, 490: 7, 489: 7, 470: 7, 467: 7, 466: 7, 463: 7, 452: 7, 430: 7, 429: 7, 421: 7, 416: 7, 403: 7, 400: 7, 397: 7, 396: 7, 393: 7, 388: 7, 383: 7, 376: 7, 374: 7, 372: 7, 366: 7, 361: 7, 355: 7, 318: 7, 311: 7, 1038: 6, 744: 6, 742: 6, 722: 6, 660: 6, 640: 6, 639: 6, 600: 6, 573: 6, 569: 6, 541: 6, 538: 6, 535: 6, 531: 6, 528: 6, 518: 6, 505: 6, 502: 6, 483: 6, 475: 6, 471: 6, 459: 6, 454: 6, 448: 6, 441: 6, 432: 6, 420: 6, 418: 6, 417: 6, 414: 6, 411: 6, 406: 6, 404: 6, 402: 6, 392: 6, 390: 6, 389: 6, 375: 6, 368: 6, 360: 6, 354: 6, 353: 6, 349: 6, 346: 6, 332: 6, 325: 6, 303: 6, 1316: 5, 1276: 5, 1113: 5, 1061: 5, 883: 5, 825: 5, 824: 5, 821: 5, 814: 5, 803: 5, 795: 5, 764: 5, 762: 5, 686: 5, 684: 5, 683: 5, 669: 5, 655: 5, 651: 5, 648: 5, 626: 5, 620: 5, 615: 5, 613: 5, 609: 5, 604: 5, 584: 5, 583: 5, 579: 5, 555: 5, 554: 5, 552: 5, 551: 5, 546: 5, 530: 5, 524: 5, 516: 5, 508: 5, 499: 5, 492: 5, 484: 5, 481: 5, 478: 5, 474: 5, 468: 5, 465: 5, 458: 5, 457: 5, 445: 5, 443: 5, 437: 5, 436: 5, 427: 5, 423: 5, 422: 5, 419: 5, 408: 5, 401: 5, 387: 5, 367: 5, 358: 5, 335: 5, 299: 5, 2277: 4, 1793: 4, 1638: 4, 1585: 4, 1579: 4, 1419: 4, 1321: 4, 1275: 4, 1222: 4, 1188: 4, 1079: 4, 1064: 4, 1041: 4, 991: 4, 987: 4, 975: 4, 972: 4, 942: 4, 919: 4, 918: 4, 900: 4, 891: 4, 887: 4, 880: 4, 877: 4, 867: 4, 854: 4, 853: 4, 850: 4, 838: 4, 831: 4, 828: 4, 818: 4, 799: 4, 794: 4, 792: 4, 783: 4, 775: 4, 769: 4, 763: 4, 758: 4, 757: 4, 756: 4, 755: 4, 753: 4, 746: 4, 736: 4, 733: 4, 726: 4, 725: 4, 712: 4, 710: 4, 709: 4, 703: 4, 697: 4, 696: 4, 691: 4, 682: 4, 677: 4, 673: 4, 668: 4, 667: 4, 665: 4, 659: 4, 650: 4, 635: 4, 632: 4, 628: 4, 607: 4, 605: 4, 601: 4, 596: 4, 593: 4, 587: 4, 586: 4, 582: 4, 580: 4, 577: 4, 575: 4, 574: 4, 571: 4, 570: 4, 568: 4, 563: 4, 561: 4, 547: 4, 542: 4, 534: 4, 533: 4, 529: 4, 520: 4, 519: 4, 517: 4, 510: 4, 504: 4, 500: 4, 496: 4, 493: 4, 485: 4, 480: 4, 469: 4, 464: 4, 435: 4, 426: 4, 424: 4, 415: 4, 409: 4, 398: 4, 386: 4, 365: 4, 364: 4, 359: 4, 342: 4, 337: 4, 305: 4, 275: 4, 3257: 3, 2906: 3, 2871: 3, 2136: 3, 2129: 3, 2031: 3, 2024: 3, 1871: 3, 1812: 3, 1810: 3, 1808: 3, 1740: 3, 1662: 3, 1640: 3, 1639: 3, 1587: 3, 1586: 3, 1574: 3, 1563: 3, 1550: 3, 1543: 3, 1541: 3, 1537: 3, 1517: 3, 1502: 3, 1488: 3, 1435: 3, 1420: 3, 1406: 3, 1402: 3, 1401: 3, 1375: 3, 1350: 3, 1340: 3, 1339: 3, 1309: 3, 1308: 3, 1299: 3, 1285: 3, 1250: 3, 1233: 3, 1232: 3, 1227: 3, 1216: 3, 1211: 3, 1201: 3, 1198: 3, 1191: 3, 1179: 3, 1178: 3, 1174: 3, 1167: 3, 1163: 3, 1153: 3, 1149: 3, 1143: 3, 1140: 3, 1134: 3, 1129: 3, 1120: 3, 1115: 3, 1114: 3, 1111: 3, 1094: 3, 1092: 3, 1082: 3, 1074: 3, 1055: 3, 1053: 3, 1050: 3, 1049: 3, 1045: 3, 1043: 3, 1037: 3, 1028: 3, 1021: 3, 1019: 3, 1017: 3, 996: 3, 994: 3, 989: 3, 985: 3, 978: 3, 977: 3, 968: 3, 965: 3, 951: 3, 950: 3, 948: 3, 947: 3, 944: 3, 933: 3, 922: 3, 921: 3, 920: 3, 906: 3, 902: 3, 888: 3, 882: 3, 871: 3, 869: 3, 865: 3, 864: 3, 861: 3, 855: 3, 852: 3, 851: 3, 847: 3, 842: 3, 837: 3, 832: 3, 827: 3, 822: 3, 816: 3, 812: 3, 811: 3, 802: 3, 797: 3, 788: 3, 786: 3, 782: 3, 776: 3, 771: 3, 770: 3, 766: 3, 760: 3, 750: 3, 749: 3, 743: 3, 737: 3, 735: 3, 732: 3, 728: 3, 723: 3, 720: 3, 717: 3, 715: 3, 713: 3, 711: 3, 708: 3, 705: 3, 704: 3, 699: 3, 698: 3, 692: 3, 689: 3, 687: 3, 679: 3, 678: 3, 676: 3, 675: 3, 674: 3, 672: 3, 671: 3, 666: 3, 661: 3, 643: 3, 642: 3, 641: 3, 636: 3, 634: 3, 630: 3, 629: 3, 627: 3, 622: 3, 618: 3, 614: 3, 612: 3, 611: 3, 599: 3, 595: 3, 594: 3, 592: 3, 589: 3, 578: 3, 576: 3, 572: 3, 564: 3, 560: 3, 558: 3, 557: 3, 556: 3, 553: 3, 549: 3, 544: 3, 539: 3, 527: 3, 525: 3, 515: 3, 509: 3, 501: 3, 495: 3, 491: 3, 487: 3, 482: 3, 479: 3, 473: 3, 460: 3, 440: 3, 438: 3, 428: 3, 425: 3, 394: 3, 391: 3, 384: 3, 338: 3, 11850: 2, 10157: 2, 8722: 2, 7991: 2, 7134: 2, 7107: 2, 6892: 2, 6843: 2, 5969: 2, 5886: 2, 5818: 2, 5412: 2, 5072: 2, 4936: 2, 4914: 2, 4855: 2, 4828: 2, 4803: 2, 4769: 2, 4606: 2, 4373: 2, 4307: 2, 4301: 2, 4180: 2, 4162: 2, 4145: 2, 3964: 2, 3862: 2, 3798: 2, 3759: 2, 3693: 2, 3670: 2, 3635: 2, 3615: 2, 3528: 2, 3517: 2, 3516: 2, 3501: 2, 3495: 2, 3480: 2, 3472: 2, 3468: 2, 3466: 2, 3463: 2, 3436: 2, 3405: 2, 3357: 2, 3309: 2, 3307: 2, 3302: 2, 3230: 2, 3198: 2, 3180: 2, 3172: 2, 3160: 2, 3109: 2, 3072: 2, 3067: 2, 2996: 2, 2967: 2, 2928: 2, 2920: 2, 2905: 2, 2819: 2, 2781: 2, 2735: 2, 2722: 2, 2700: 2, 2689: 2, 2636: 2, 2633: 2, 2632: 2, 2619: 2, 2616: 2, 2609: 2, 2607: 2, 2606: 2, 2602: 2, 2590: 2, 2582: 2, 2576: 2, 2520: 2, 2501: 2, 2494: 2, 2486: 2, 2474: 2, 2462: 2, 2455: 2, 2438: 2, 2420: 2, 2419: 2, 2391: 2, 2380: 2, 2379: 2, 2371: 2, 2364: 2, 2328: 2, 2298: 2, 2262: 2, 2257: 2, 2241: 2, 2228: 2, 2210: 2, 2188: 2, 2171: 2, 2170: 2, 2160: 2, 2144: 2, 2132: 2, 2126: 2, 2111: 2, 2099: 2, 2096: 2, 2072: 2, 2061: 2, 2059: 2, 2051: 2, 2046: 2, 2040: 2, 2033: 2, 2025: 2, 2008: 2, 2005: 2, 2004: 2, 1999: 2, 1992: 2, 1987: 2, 1983: 2, 1980: 2, 1974: 2, 1970: 2, 1959: 2, 1943: 2, 1938: 2, 1926: 2, 1898: 2, 1896: 2, 1888: 2, 1881: 2, 1877: 2, 1875: 2, 1872: 2, 1867: 2, 1857: 2, 1856: 2, 1845: 2, 1844: 2, 1839: 2, 1833: 2, 1830: 2, 1817: 2, 1814: 2, 1800: 2, 1799: 2, 1794: 2, 1774: 2, 1773: 2, 1771: 2, 1757: 2, 1730: 2, 1720: 2, 1711: 2, 1707: 2, 1697: 2, 1661: 2, 1650: 2, 1649: 2, 1632: 2, 1625: 2, 1623: 2, 1612: 2, 1610: 2, 1607: 2, 1605: 2, 1569: 2, 1568: 2, 1567: 2, 1564: 2, 1561: 2, 1559: 2, 1549: 2, 1548: 2, 1542: 2, 1518: 2, 1510: 2, 1501: 2, 1491: 2, 1489: 2, 1484: 2, 1473: 2, 1472: 2, 1470: 2, 1465: 2, 1449: 2, 1448: 2, 1443: 2, 1442: 2, 1436: 2, 1418: 2, 1417: 2, 1416: 2, 1415: 2, 1414: 2, 1408: 2, 1398: 2, 1397: 2, 1394: 2, 1390: 2, 1388: 2, 1385: 2, 1382: 2, 1379: 2, 1378: 2, 1374: 2, 1373: 2, 1365: 2, 1358: 2, 1357: 2, 1349: 2, 1343: 2, 1342: 2, 1338: 2, 1336: 2, 1332: 2, 1331: 2, 1329: 2, 1326: 2, 1325: 2, 1319: 2, 1314: 2, 1312: 2, 1307: 2, 1304: 2, 1302: 2, 1300: 2, 1295: 2, 1290: 2, 1286: 2, 1283: 2, 1281: 2, 1280: 2, 1278: 2, 1270: 2, 1268: 2, 1267: 2, 1258: 2, 1257: 2, 1256: 2, 1254: 2, 1249: 2, 1247: 2, 1244: 2, 1240: 2, 1238: 2, 1235: 2, 1229: 2, 1223: 2, 1220: 2, 1219: 2, 1217: 2, 1215: 2, 1212: 2, 1205: 2, 1202: 2, 1199: 2, 1190: 2, 1187: 2, 1182: 2, 1180: 2, 1173: 2, 1169: 2, 1161: 2, 1160: 2, 1156: 2, 1151: 2, 1150: 2, 1148: 2, 1144: 2, 1138: 2, 1137: 2, 1130: 2, 1126: 2, 1125: 2, 1116: 2, 1106: 2, 1103: 2, 1102: 2, 1101: 2, 1089: 2, 1084: 2, 1078: 2, 1076: 2, 1073: 2, 1068: 2, 1062: 2, 1059: 2, 1046: 2, 1042: 2, 1033: 2, 1031: 2, 1029: 2, 1027: 2, 1026: 2, 1025: 2, 1022: 2, 1018: 2, 1013: 2, 1007: 2, 1004: 2, 1000: 2, 997: 2, 995: 2, 993: 2, 988: 2, 986: 2, 982: 2, 974: 2, 973: 2, 969: 2, 967: 2, 963: 2, 958: 2, 957: 2, 954: 2, 953: 2, 949: 2, 943: 2, 940: 2, 936: 2, 934: 2, 932: 2, 930: 2, 926: 2, 925: 2, 924: 2, 917: 2, 914: 2, 913: 2, 912: 2, 908: 2, 899: 2, 896: 2, 890: 2, 884: 2, 879: 2, 878: 2, 873: 2, 872: 2, 868: 2, 866: 2, 862: 2, 860: 2, 858: 2, 857: 2, 846: 2, 845: 2, 840: 2, 839: 2, 836: 2, 834: 2, 829: 2, 826: 2, 823: 2, 820: 2, 817: 2, 813: 2, 809: 2, 808: 2, 807: 2, 806: 2, 801: 2, 798: 2, 796: 2, 793: 2, 791: 2, 789: 2, 784: 2, 781: 2, 768: 2, 767: 2, 765: 2, 759: 2, 754: 2, 752: 2, 741: 2, 739: 2, 738: 2, 730: 2, 724: 2, 718: 2, 716: 2, 714: 2, 707: 2, 702: 2, 700: 2, 693: 2, 680: 2, 664: 2, 662: 2, 658: 2, 656: 2, 649: 2, 644: 2, 638: 2, 637: 2, 631: 2, 621: 2, 619: 2, 616: 2, 610: 2, 606: 2, 602: 2, 597: 2, 590: 2, 585: 2, 581: 2, 566: 2, 562: 2, 550: 2, 548: 2, 545: 2, 540: 2, 537: 2, 526: 2, 523: 2, 511: 2, 506: 2, 497: 2, 486: 2, 477: 2, 472: 2, 450: 2, 442: 2, 405: 2, 357: 2, 339: 2, 968934: 1, 798828: 1, 600317: 1, 588548: 1, 364180: 1, 250413: 1, 185902: 1, 177128: 1, 168029: 1, 151579: 1, 137509: 1, 136729: 1, 136346: 1, 124627: 1, 117722: 1, 107358: 1, 93305: 1, 89897: 1, 84776: 1, 83477: 1, 81062: 1, 75990: 1, 73245: 1, 72513: 1, 67867: 1, 67259: 1, 67048: 1, 66911: 1, 66773: 1, 63411: 1, 62999: 1, 62778: 1, 57984: 1, 56715: 1, 54334: 1, 51895: 1, 50155: 1, 49494: 1, 49010: 1, 47609: 1, 47148: 1, 44860: 1, 42266: 1, 42221: 1, 42096: 1, 41209: 1, 41025: 1, 40997: 1, 40732: 1, 40254: 1, 39558: 1, 38327: 1, 37707: 1, 37185: 1, 37110: 1, 35946: 1, 35918: 1, 35475: 1, 33964: 1, 33690: 1, 33546: 1, 33208: 1, 33175: 1, 31461: 1, 31253: 1, 31147: 1, 30299: 1, 30137: 1, 29605: 1, 29314: 1, 28342: 1, 28082: 1, 27392: 1, 27348: 1, 26887: 1, 26093: 1, 26062: 1, 26037: 1, 25965: 1, 25614: 1, 25470: 1, 25032: 1, 24759: 1, 24673: 1, 24366: 1, 24299: 1, 24244: 1, 24156: 1, 23863: 1, 23296: 1, 23258: 1, 23149: 1, 22848: 1, 22524: 1, 22462: 1, 22398: 1, 22156: 1, 21910: 1, 21607: 1, 21602: 1, 21148: 1, 20996: 1, 20904: 1, 20727: 1, 20610: 1, 20251: 1, 20137: 1, 19891: 1, 19683: 1, 19506: 1, 19475: 1, 19340: 1, 19162: 1, 19104: 1, 19011: 1, 18837: 1, 18825: 1, 18751: 1, 18669: 1, 18633: 1, 18547: 1, 18472: 1, 18358: 1, 18160: 1, 18079: 1, 17948: 1, 17682: 1, 17641: 1, 17576: 1, 17486: 1, 17422: 1, 17407: 1, 17386: 1, 17383: 1, 17378: 1, 17372: 1, 17358: 1, 17342: 1, 17205: 1, 17102: 1, 16952: 1, 16940: 1, 16757: 1, 16711: 1, 16624: 1, 16126: 1, 16110: 1, 15828: 1, 15760: 1, 15707: 1, 15632: 1, 15607: 1, 15596: 1, 15593: 1, 15421: 1, 15352: 1, 15210: 1, 15208: 1, 15159: 1, 14990: 1, 14879: 1, 14843: 1, 14526: 1, 14517: 1, 14391: 1, 14389: 1, 14376: 1, 14329: 1, 14125: 1, 13946: 1, 13768: 1, 13719: 1, 13557: 1, 13544: 1, 13380: 1, 13368: 1, 13332: 1, 13325: 1, 13297: 1, 13233: 1, 13129: 1, 13079: 1, 13037: 1, 12960: 1, 12874: 1, 12809: 1, 12750: 1, 12672: 1, 12661: 1, 12619: 1, 12610: 1, 12609: 1, 12606: 1, 12600: 1, 12562: 1, 12499: 1, 12463: 1, 12457: 1, 12415: 1, 12413: 1, 12389: 1, 12354: 1, 12311: 1, 12299: 1, 12298: 1, 12289: 1, 12279: 1, 12258: 1, 12240: 1, 12237: 1, 12226: 1, 12194: 1, 12182: 1, 12149: 1, 12037: 1, 12026: 1, 11969: 1, 11961: 1, 11927: 1, 11852: 1, 11824: 1, 11770: 1, 11752: 1, 11700: 1, 11606: 1, 11554: 1, 11551: 1, 11518: 1, 11416: 1, 11340: 1, 11220: 1, 11133: 1, 11034: 1, 11018: 1, 10979: 1, 10978: 1, 10942: 1, 10795: 1, 10794: 1, 10789: 1, 10704: 1, 10660: 1, 10634: 1, 10584: 1, 10455: 1, 10443: 1, 10426: 1, 10352: 1, 10345: 1, 10200: 1, 10085: 1, 10083: 1, 10074: 1, 10041: 1, 10031: 1, 10026: 1, 10025: 1, 9993: 1, 9905: 1, 9896: 1, 9820: 1, 9795: 1, 9748: 1, 9665: 1, 9550: 1, 9515: 1, 9495: 1, 9452: 1, 9445: 1, 9394: 1, 9356: 1, 9345: 1, 9307: 1, 9292: 1, 9262: 1, 9258: 1, 9256: 1, 9247: 1, 9239: 1, 9233: 1, 9170: 1, 9164: 1, 9163: 1, 9153: 1, 9116: 1, 9092: 1, 9089: 1, 9082: 1, 8965: 1, 8944: 1, 8918: 1, 8890: 1, 8875: 1, 8858: 1, 8857: 1, 8844: 1, 8827: 1, 8756: 1, 8723: 1, 8702: 1, 8694: 1, 8686: 1, 8672: 1, 8659: 1, 8606: 1, 8554: 1, 8544: 1, 8502: 1, 8417: 1, 8370: 1, 8348: 1, 8347: 1, 8299: 1, 8281: 1, 8258: 1, 8238: 1, 8232: 1, 8151: 1, 8133: 1, 8132: 1, 8124: 1, 8121: 1, 8078: 1, 8061: 1, 8026: 1, 8019: 1, 7990: 1, 7983: 1, 7944: 1, 7936: 1, 7895: 1, 7892: 1, 7887: 1, 7799: 1, 7794: 1, 7777: 1, 7748: 1, 7725: 1, 7722: 1, 7713: 1, 7691: 1, 7688: 1, 7680: 1, 7678: 1, 7627: 1, 7624: 1, 7613: 1, 7573: 1, 7460: 1, 7422: 1, 7420: 1, 7416: 1, 7415: 1, 7404: 1, 7397: 1, 7382: 1, 7379: 1, 7378: 1, 7367: 1, 7360: 1, 7338: 1, 7332: 1, 7309: 1, 7284: 1, 7273: 1, 7263: 1, 7253: 1, 7248: 1, 7244: 1, 7202: 1, 7188: 1, 7162: 1, 7131: 1, 7124: 1, 7111: 1, 7103: 1, 7090: 1, 7087: 1, 7061: 1, 7044: 1, 7039: 1, 7018: 1, 6963: 1, 6955: 1, 6909: 1, 6905: 1, 6895: 1, 6883: 1, 6849: 1, 6829: 1, 6814: 1, 6810: 1, 6797: 1, 6795: 1, 6793: 1, 6791: 1, 6781: 1, 6766: 1, 6762: 1, 6752: 1, 6715: 1, 6706: 1, 6691: 1, 6686: 1, 6683: 1, 6635: 1, 6611: 1, 6601: 1, 6590: 1, 6561: 1, 6557: 1, 6556: 1, 6542: 1, 6541: 1, 6534: 1, 6531: 1, 6503: 1, 6486: 1, 6445: 1, 6442: 1, 6435: 1, 6424: 1, 6417: 1, 6370: 1, 6362: 1, 6345: 1, 6294: 1, 6292: 1, 6281: 1, 6269: 1, 6260: 1, 6259: 1, 6256: 1, 6254: 1, 6248: 1, 6241: 1, 6237: 1, 6216: 1, 6212: 1, 6197: 1, 6193: 1, 6170: 1, 6153: 1, 6144: 1, 6104: 1, 6100: 1, 6098: 1, 6045: 1, 6044: 1, 6034: 1, 5997: 1, 5994: 1, 5991: 1, 5946: 1, 5928: 1, 5914: 1, 5911: 1, 5908: 1, 5883: 1, 5877: 1, 5851: 1, 5848: 1, 5847: 1, 5846: 1, 5816: 1, 5814: 1, 5812: 1, 5798: 1, 5777: 1, 5769: 1, 5744: 1, 5741: 1, 5736: 1, 5708: 1, 5682: 1, 5679: 1, 5647: 1, 5628: 1, 5612: 1, 5609: 1, 5599: 1, 5595: 1, 5570: 1, 5561: 1, 5559: 1, 5500: 1, 5487: 1, 5483: 1, 5421: 1, 5408: 1, 5407: 1, 5404: 1, 5401: 1, 5394: 1, 5392: 1, 5386: 1, 5380: 1, 5366: 1, 5357: 1, 5339: 1, 5338: 1, 5334: 1, 5303: 1, 5302: 1, 5296: 1, 5279: 1, 5269: 1, 5254: 1, 5208: 1, 5207: 1, 5205: 1, 5200: 1, 5193: 1, 5191: 1, 5184: 1, 5152: 1, 5150: 1, 5133: 1, 5130: 1, 5127: 1, 5123: 1, 5122: 1, 5116: 1, 5097: 1, 5077: 1, 5069: 1, 5059: 1, 5039: 1, 5028: 1, 5027: 1, 5009: 1, 5008: 1, 4996: 1, 4992: 1, 4990: 1, 4970: 1, 4962: 1, 4957: 1, 4926: 1, 4920: 1, 4893: 1, 4889: 1, 4885: 1, 4882: 1, 4879: 1, 4872: 1, 4867: 1, 4861: 1, 4860: 1, 4851: 1, 4845: 1, 4838: 1, 4833: 1, 4807: 1, 4796: 1, 4790: 1, 4786: 1, 4785: 1, 4771: 1, 4766: 1, 4752: 1, 4738: 1, 4734: 1, 4713: 1, 4686: 1, 4663: 1, 4656: 1, 4651: 1, 4648: 1, 4645: 1, 4629: 1, 4620: 1, 4604: 1, 4600: 1, 4597: 1, 4591: 1, 4571: 1, 4556: 1, 4553: 1, 4538: 1, 4526: 1, 4512: 1, 4509: 1, 4503: 1, 4488: 1, 4479: 1, 4478: 1, 4473: 1, 4457: 1, 4454: 1, 4447: 1, 4443: 1, 4434: 1, 4432: 1, 4430: 1, 4419: 1, 4414: 1, 4412: 1, 4401: 1, 4398: 1, 4389: 1, 4385: 1, 4374: 1, 4371: 1, 4355: 1, 4350: 1, 4348: 1, 4343: 1, 4339: 1, 4338: 1, 4332: 1, 4328: 1, 4317: 1, 4314: 1, 4304: 1, 4300: 1, 4291: 1, 4284: 1, 4273: 1, 4272: 1, 4271: 1, 4266: 1, 4257: 1, 4255: 1, 4253: 1, 4252: 1, 4248: 1, 4246: 1, 4238: 1, 4234: 1, 4214: 1, 4213: 1, 4211: 1, 4210: 1, 4186: 1, 4175: 1, 4171: 1, 4155: 1, 4152: 1, 4151: 1, 4146: 1, 4143: 1, 4137: 1, 4136: 1, 4134: 1, 4132: 1, 4109: 1, 4104: 1, 4100: 1, 4087: 1, 4083: 1, 4074: 1, 4072: 1, 4068: 1, 4067: 1, 4066: 1, 4049: 1, 4038: 1, 4034: 1, 4022: 1, 4013: 1, 4010: 1, 4006: 1, 4000: 1, 3998: 1, 3985: 1, 3958: 1, 3957: 1, 3954: 1, 3952: 1, 3951: 1, 3950: 1, 3947: 1, 3945: 1, 3931: 1, 3930: 1, 3929: 1, 3925: 1, 3920: 1, 3919: 1, 3910: 1, 3897: 1, 3895: 1, 3890: 1, 3879: 1, 3877: 1, 3873: 1, 3859: 1, 3857: 1, 3855: 1, 3849: 1, 3835: 1, 3831: 1, 3830: 1, 3818: 1, 3813: 1, 3808: 1, 3806: 1, 3805: 1, 3796: 1, 3785: 1, 3776: 1, 3769: 1, 3758: 1, 3752: 1, 3750: 1, 3742: 1, 3738: 1, 3725: 1, 3713: 1, 3710: 1, 3705: 1, 3701: 1, 3695: 1, 3692: 1, 3687: 1, 3685: 1, 3681: 1, 3674: 1, 3669: 1, 3668: 1, 3663: 1, 3660: 1, 3643: 1, 3636: 1, 3627: 1, 3626: 1, 3625: 1, 3621: 1, 3611: 1, 3607: 1, 3606: 1, 3593: 1, 3573: 1, 3566: 1, 3562: 1, 3559: 1, 3558: 1, 3550: 1, 3549: 1, 3543: 1, 3542: 1, 3539: 1, 3515: 1, 3512: 1, 3505: 1, 3497: 1, 3492: 1, 3489: 1, 3482: 1, 3479: 1, 3477: 1, 3460: 1, 3453: 1, 3449: 1, 3433: 1, 3425: 1, 3418: 1, 3412: 1, 3400: 1, 3393: 1, 3389: 1, 3382: 1, 3376: 1, 3373: 1, 3370: 1, 3366: 1, 3362: 1, 3356: 1, 3343: 1, 3342: 1, 3339: 1, 3327: 1, 3325: 1, 3318: 1, 3315: 1, 3303: 1, 3300: 1, 3291: 1, 3285: 1, 3284: 1, 3282: 1, 3273: 1, 3272: 1, 3268: 1, 3261: 1, 3254: 1, 3238: 1, 3233: 1, 3231: 1, 3220: 1, 3218: 1, 3217: 1, 3215: 1, 3213: 1, 3208: 1, 3205: 1, 3194: 1, 3193: 1, 3192: 1, 3190: 1, 3187: 1, 3174: 1, 3171: 1, 3162: 1, 3159: 1, 3157: 1, 3155: 1, 3147: 1, 3139: 1, 3138: 1, 3117: 1, 3114: 1, 3113: 1, 3112: 1, 3104: 1, 3101: 1, 3099: 1, 3068: 1, 3066: 1, 3063: 1, 3051: 1, 3049: 1, 3042: 1, 3041: 1, 3040: 1, 3032: 1, 3031: 1, 3026: 1, 3025: 1, 3024: 1, 3021: 1, 3014: 1, 3008: 1, 3007: 1, 2991: 1, 2987: 1, 2983: 1, 2976: 1, 2975: 1, 2969: 1, 2962: 1, 2956: 1, 2954: 1, 2950: 1, 2939: 1, 2937: 1, 2933: 1, 2932: 1, 2927: 1, 2926: 1, 2923: 1, 2916: 1, 2914: 1, 2908: 1, 2901: 1, 2898: 1, 2897: 1, 2888: 1, 2887: 1, 2876: 1, 2870: 1, 2860: 1, 2855: 1, 2851: 1, 2848: 1, 2839: 1, 2836: 1, 2834: 1, 2833: 1, 2832: 1, 2829: 1, 2828: 1, 2825: 1, 2820: 1, 2812: 1, 2811: 1, 2808: 1, 2803: 1, 2798: 1, 2789: 1, 2786: 1, 2782: 1, 2779: 1, 2776: 1, 2773: 1, 2766: 1, 2763: 1, 2762: 1, 2756: 1, 2746: 1, 2745: 1, 2743: 1, 2742: 1, 2738: 1, 2737: 1, 2733: 1, 2720: 1, 2719: 1, 2718: 1, 2702: 1, 2698: 1, 2695: 1, 2687: 1, 2680: 1, 2678: 1, 2676: 1, 2669: 1, 2663: 1, 2661: 1, 2657: 1, 2653: 1, 2650: 1, 2631: 1, 2629: 1, 2628: 1, 2627: 1, 2625: 1, 2624: 1, 2623: 1, 2622: 1, 2618: 1, 2611: 1, 2608: 1, 2601: 1, 2600: 1, 2598: 1, 2596: 1, 2592: 1, 2587: 1, 2578: 1, 2569: 1, 2563: 1, 2561: 1, 2557: 1, 2548: 1, 2544: 1, 2542: 1, 2535: 1, 2534: 1, 2524: 1, 2523: 1, 2522: 1, 2521: 1, 2515: 1, 2512: 1, 2509: 1, 2507: 1, 2506: 1, 2503: 1, 2495: 1, 2491: 1, 2490: 1, 2487: 1, 2483: 1, 2482: 1, 2481: 1, 2477: 1, 2470: 1, 2469: 1, 2464: 1, 2461: 1, 2458: 1, 2453: 1, 2446: 1, 2444: 1, 2439: 1, 2435: 1, 2433: 1, 2431: 1, 2427: 1, 2422: 1, 2411: 1, 2410: 1, 2406: 1, 2398: 1, 2397: 1, 2387: 1, 2385: 1, 2383: 1, 2382: 1, 2376: 1, 2374: 1, 2366: 1, 2365: 1, 2363: 1, 2355: 1, 2352: 1, 2347: 1, 2343: 1, 2342: 1, 2337: 1, 2330: 1, 2329: 1, 2327: 1, 2324: 1, 2315: 1, 2314: 1, 2313: 1, 2296: 1, 2289: 1, 2288: 1, 2283: 1, 2280: 1, 2275: 1, 2274: 1, 2271: 1, 2268: 1, 2267: 1, 2264: 1, 2260: 1, 2255: 1, 2250: 1, 2246: 1, 2245: 1, 2244: 1, 2234: 1, 2232: 1, 2227: 1, 2225: 1, 2224: 1, 2223: 1, 2221: 1, 2216: 1, 2214: 1, 2212: 1, 2202: 1, 2199: 1, 2197: 1, 2196: 1, 2193: 1, 2192: 1, 2190: 1, 2186: 1, 2184: 1, 2183: 1, 2181: 1, 2178: 1, 2177: 1, 2175: 1, 2172: 1, 2166: 1, 2162: 1, 2155: 1, 2152: 1, 2149: 1, 2148: 1, 2146: 1, 2141: 1, 2138: 1, 2131: 1, 2127: 1, 2124: 1, 2115: 1, 2114: 1, 2108: 1, 2104: 1, 2100: 1, 2097: 1, 2094: 1, 2092: 1, 2087: 1, 2086: 1, 2085: 1, 2083: 1, 2082: 1, 2077: 1, 2075: 1, 2070: 1, 2068: 1, 2066: 1, 2065: 1, 2062: 1, 2052: 1, 2050: 1, 2049: 1, 2047: 1, 2045: 1, 2039: 1, 2035: 1, 2017: 1, 2015: 1, 2011: 1, 2007: 1, 2003: 1, 2001: 1, 1997: 1, 1995: 1, 1993: 1, 1991: 1, 1989: 1, 1988: 1, 1986: 1, 1979: 1, 1975: 1, 1973: 1, 1971: 1, 1969: 1, 1968: 1, 1966: 1, 1965: 1, 1962: 1, 1960: 1, 1955: 1, 1953: 1, 1950: 1, 1948: 1, 1947: 1, 1946: 1, 1945: 1, 1944: 1, 1942: 1, 1941: 1, 1940: 1, 1935: 1, 1934: 1, 1927: 1, 1922: 1, 1921: 1, 1918: 1, 1917: 1, 1914: 1, 1912: 1, 1910: 1, 1909: 1, 1905: 1, 1903: 1, 1899: 1, 1895: 1, 1891: 1, 1890: 1, 1887: 1, 1885: 1, 1882: 1, 1880: 1, 1874: 1, 1870: 1, 1869: 1, 1865: 1, 1860: 1, 1859: 1, 1858: 1, 1855: 1, 1854: 1, 1853: 1, 1852: 1, 1851: 1, 1849: 1, 1848: 1, 1841: 1, 1838: 1, 1835: 1, 1829: 1, 1828: 1, 1826: 1, 1823: 1, 1822: 1, 1820: 1, 1819: 1, 1818: 1, 1815: 1, 1811: 1, 1809: 1, 1806: 1, 1805: 1, 1804: 1, 1801: 1, 1797: 1, 1796: 1, 1790: 1, 1789: 1, 1787: 1, 1786: 1, 1784: 1, 1782: 1, 1770: 1, 1768: 1, 1761: 1, 1756: 1, 1752: 1, 1751: 1, 1750: 1, 1749: 1, 1747: 1, 1746: 1, 1745: 1, 1742: 1, 1739: 1, 1738: 1, 1732: 1, 1729: 1, 1728: 1, 1727: 1, 1726: 1, 1725: 1, 1724: 1, 1722: 1, 1721: 1, 1719: 1, 1716: 1, 1713: 1, 1710: 1, 1706: 1, 1705: 1, 1703: 1, 1702: 1, 1701: 1, 1694: 1, 1691: 1, 1687: 1, 1686: 1, 1684: 1, 1683: 1, 1681: 1, 1680: 1, 1675: 1, 1672: 1, 1671: 1, 1670: 1, 1666: 1, 1665: 1, 1664: 1, 1656: 1, 1655: 1, 1654: 1, 1653: 1, 1651: 1, 1647: 1, 1643: 1, 1634: 1, 1633: 1, 1631: 1, 1630: 1, 1629: 1, 1628: 1, 1627: 1, 1626: 1, 1622: 1, 1621: 1, 1620: 1, 1618: 1, 1617: 1, 1616: 1, 1615: 1, 1614: 1, 1613: 1, 1609: 1, 1608: 1, 1606: 1, 1603: 1, 1601: 1, 1597: 1, 1596: 1, 1595: 1, 1594: 1, 1593: 1, 1590: 1, 1588: 1, 1584: 1, 1581: 1, 1580: 1, 1576: 1, 1573: 1, 1570: 1, 1566: 1, 1565: 1, 1562: 1, 1560: 1, 1558: 1, 1557: 1, 1556: 1, 1551: 1, 1544: 1, 1538: 1, 1535: 1, 1530: 1, 1529: 1, 1521: 1, 1516: 1, 1515: 1, 1514: 1, 1512: 1, 1511: 1, 1506: 1, 1503: 1, 1500: 1, 1497: 1, 1495: 1, 1493: 1, 1490: 1, 1486: 1, 1482: 1, 1478: 1, 1476: 1, 1475: 1, 1474: 1, 1471: 1, 1468: 1, 1467: 1, 1466: 1, 1463: 1, 1457: 1, 1456: 1, 1455: 1, 1454: 1, 1452: 1, 1451: 1, 1450: 1, 1446: 1, 1438: 1, 1437: 1, 1434: 1, 1432: 1, 1430: 1, 1427: 1, 1424: 1, 1413: 1, 1410: 1, 1409: 1, 1407: 1, 1405: 1, 1403: 1, 1400: 1, 1399: 1, 1395: 1, 1393: 1, 1392: 1, 1389: 1, 1386: 1, 1383: 1, 1381: 1, 1368: 1, 1367: 1, 1362: 1, 1361: 1, 1354: 1, 1352: 1, 1351: 1, 1348: 1, 1346: 1, 1345: 1, 1344: 1, 1341: 1, 1337: 1, 1334: 1, 1333: 1, 1330: 1, 1328: 1, 1324: 1, 1322: 1, 1320: 1, 1318: 1, 1313: 1, 1311: 1, 1305: 1, 1301: 1, 1298: 1, 1297: 1, 1293: 1, 1292: 1, 1291: 1, 1289: 1, 1287: 1, 1284: 1, 1282: 1, 1277: 1, 1273: 1, 1272: 1, 1265: 1, 1261: 1, 1259: 1, 1252: 1, 1245: 1, 1243: 1, 1242: 1, 1237: 1, 1234: 1, 1226: 1, 1225: 1, 1221: 1, 1214: 1, 1209: 1, 1208: 1, 1206: 1, 1204: 1, 1200: 1, 1197: 1, 1196: 1, 1195: 1, 1194: 1, 1193: 1, 1186: 1, 1185: 1, 1184: 1, 1183: 1, 1175: 1, 1172: 1, 1171: 1, 1170: 1, 1168: 1, 1166: 1, 1164: 1, 1162: 1, 1159: 1, 1155: 1, 1154: 1, 1146: 1, 1142: 1, 1141: 1, 1135: 1, 1133: 1, 1127: 1, 1124: 1, 1123: 1, 1122: 1, 1119: 1, 1117: 1, 1112: 1, 1108: 1, 1105: 1, 1104: 1, 1099: 1, 1098: 1, 1096: 1, 1091: 1, 1081: 1, 1080: 1, 1070: 1, 1069: 1, 1067: 1, 1065: 1, 1063: 1, 1060: 1, 1057: 1, 1052: 1, 1051: 1, 1048: 1, 1047: 1, 1040: 1, 1036: 1, 1035: 1, 1034: 1, 1032: 1, 1024: 1, 1016: 1, 1014: 1, 1012: 1, 1010: 1, 1006: 1, 1003: 1, 1002: 1, 1001: 1, 992: 1, 990: 1, 983: 1, 981: 1, 980: 1, 976: 1, 971: 1, 970: 1, 966: 1, 964: 1, 962: 1, 961: 1, 959: 1, 956: 1, 955: 1, 952: 1, 946: 1, 945: 1, 941: 1, 939: 1, 937: 1, 935: 1, 931: 1, 927: 1, 923: 1, 915: 1, 911: 1, 910: 1, 909: 1, 907: 1, 905: 1, 904: 1, 897: 1, 895: 1, 894: 1, 893: 1, 892: 1, 889: 1, 885: 1, 881: 1, 876: 1, 874: 1, 870: 1, 863: 1, 856: 1, 844: 1, 843: 1, 841: 1, 835: 1, 830: 1, 815: 1, 810: 1, 805: 1, 804: 1, 800: 1, 790: 1, 787: 1, 785: 1, 780: 1, 778: 1, 777: 1, 774: 1, 772: 1, 761: 1, 751: 1, 748: 1, 745: 1, 729: 1, 727: 1, 719: 1, 706: 1, 701: 1, 695: 1, 694: 1, 688: 1, 685: 1, 681: 1, 670: 1, 657: 1, 654: 1, 653: 1, 652: 1, 646: 1, 624: 1, 603: 1, 598: 1, 565: 1, 514: 1, 503: 1, 488: 1, 461: 1, 439: 1})\n"
     ]
    }
   ],
   "source": [
    "print(NoOfWord_Occurrence)\n",
    "#this will print a dictionary where keys are number of word and its values are the number of times that word in appearing in\n",
    "#train data. For eg, in below dictionary 3 words are occurring 5316 times, 4 words are occurring 3385 times and so on."
   ]
  },
  {
   "cell_type": "markdown",
   "metadata": {},
   "source": [
    "### Is the text feature useful in predicitng y_i?"
   ]
  },
  {
   "cell_type": "code",
   "execution_count": 80,
   "metadata": {},
   "outputs": [
    {
     "name": "stdout",
     "output_type": "stream",
     "text": [
      "For alpha value of 1e-05 CV log loss = 1.8319637044429844\n",
      "For alpha value of 0.0001 CV log loss = 1.556403046457776\n",
      "For alpha value of 0.001 CV log loss = 1.3942256088913025\n",
      "For alpha value of 0.01 CV log loss = 1.3885294044609282\n",
      "For alpha value of 0.1 CV log loss = 1.281699630378601\n",
      "For alpha value of 1 CV log loss = 1.1144971327761948\n",
      "For alpha value of 10 CV log loss = 1.119463882190078\n",
      "For alpha value of 15 CV log loss = 1.1291693252319857\n",
      "For alpha value of 20 CV log loss = 1.1396258319267831\n",
      "For alpha value of 40 CV log loss = 1.1743931054055414\n"
     ]
    },
    {
     "data": {
      "image/png": "[encoded data removed]",
      "text/plain": [
       "<Figure size 864x504 with 1 Axes>"
      ]
     },
     "metadata": {
      "needs_background": "light"
     },
     "output_type": "display_data"
    }
   ],
   "source": [
    "alpha = [10 ** x for x in range(-5, 2)]\n",
    "alpha.append(15)\n",
    "alpha.append(20)\n",
    "alpha.append(40)\n",
    "\n",
    "cv_log_loss = []\n",
    "for i in alpha:\n",
    "    clf = SGDClassifier(alpha=i, penalty='l2', loss='log', random_state=42)\n",
    "    clf.fit(train_text_feature_tfidf, TrainDataLabels)\n",
    "    calib_clf = CalibratedClassifierCV(clf, method = \"sigmoid\")\n",
    "    calib_clf.fit(train_text_feature_tfidf, TrainDataLabels)\n",
    "    predicted_y = calib_clf.predict_proba(cv_text_feature_tfidf)\n",
    "    cv_log_loss.append(log_loss(CV_Data_Labels, predicted_y, labels=clf.classes_))\n",
    "    print(\"For alpha value of \"+str(i)+\" CV log loss = \"+str(log_loss(CV_Data_Labels, predicted_y, labels=clf.classes_)))\n",
    "\n",
    "plt.figure(figsize = (12, 7))\n",
    "plt.plot(alpha, cv_log_loss)\n",
    "for xy in zip(alpha, np.round(cv_log_loss, 4)):\n",
    "    plt.annotate(xy, xy)\n",
    "    \n",
    "plt.title(\"Alpha vs Log-loss\", fontsize = 20)\n",
    "plt.xlabel(\"Alpha\", fontsize = 20)\n",
    "plt.ylabel(\"Log-Loss\", fontsize = 20)\n",
    "plt.show()"
   ]
  },
  {
   "cell_type": "code",
   "execution_count": 81,
   "metadata": {},
   "outputs": [
    {
     "name": "stdout",
     "output_type": "stream",
     "text": [
      "For values of best alpha =  1 the train log loss =: 0.5642905851156057\n",
      "For values of best alpha =  1 the CV log loss =: 1.1144971327761948\n",
      "For values of best alpha =  1 the test log loss =: 1.0627781663251301\n"
     ]
    }
   ],
   "source": [
    "best_alpha = alpha[np.argmin(cv_log_loss)]\n",
    "clf = SGDClassifier(alpha=best_alpha, penalty='l2', loss='log', random_state=42)\n",
    "clf.fit(train_text_feature_tfidf, TrainDataLabels)\n",
    "calib_clf = CalibratedClassifierCV(clf, method = \"sigmoid\")\n",
    "calib_clf.fit(train_text_feature_tfidf, TrainDataLabels)\n",
    "\n",
    "predict_train = calib_clf.predict_proba(train_text_feature_tfidf)\n",
    "print('For values of best alpha = ', best_alpha, \"the train log loss =:\",log_loss(TrainDataLabels, predict_train, labels=clf.classes_))\n",
    "\n",
    "predict_cv = calib_clf.predict_proba(cv_text_feature_tfidf)\n",
    "print('For values of best alpha = ', best_alpha, \"the CV log loss =:\",log_loss(CV_Data_Labels, predict_cv, labels=clf.classes_))\n",
    "\n",
    "predict_test = calib_clf.predict_proba(test_text_feature_tfidf)\n",
    "print('For values of best alpha = ', best_alpha, \"the test log loss =:\",log_loss(TestLabels, predict_test, labels=clf.classes_))"
   ]
  },
  {
   "cell_type": "markdown",
   "metadata": {},
   "source": [
    "### Is the text feature stable across train, test and CV datasets?"
   ]
  },
  {
   "cell_type": "code",
   "execution_count": 82,
   "metadata": {},
   "outputs": [],
   "source": [
    "def checkingCommonFeatures(df):\n",
    "    count_vect = CountVectorizer(min_df = 3)\n",
    "    BoWMatrx = count_vect.fit_transform(df[\"Text\"])\n",
    "    BoWMatrxFeatures = count_vect.get_feature_names()\n",
    "    BoWMatrxFeaturesUnique = len(set(BoWMatrxFeatures))\n",
    "    commonFeatures = len(set(TrainFeatures) & set(BoWMatrxFeatures))\n",
    "    return BoWMatrxFeaturesUnique, commonFeatures"
   ]
  },
  {
   "cell_type": "code",
   "execution_count": 83,
   "metadata": {},
   "outputs": [],
   "source": [
    "count_vect = CountVectorizer(min_df = 3)\n",
    "BoWMatrx = count_vect.fit_transform(TestData[\"Text\"])\n",
    "BoWMatrxFeatures = count_vect.get_feature_names()"
   ]
  },
  {
   "cell_type": "code",
   "execution_count": 84,
   "metadata": {},
   "outputs": [
    {
     "name": "stdout",
     "output_type": "stream",
     "text": [
      "Percentage of common features in train and test data = 98.2432%\n",
      "Percentage of common features in train and CV data = 97.1968%\n"
     ]
    }
   ],
   "source": [
    "len1, len2 = checkingCommonFeatures(TestData)\n",
    "print(\"Percentage of common features in train and test data = \"+str(np.round((len2/len1)*100, 4))+\"%\")\n",
    "#it prints: Out of total features in test data, how many features are also present in train data\n",
    "len3, len4 = checkingCommonFeatures(CV_Data)\n",
    "print(\"Percentage of common features in train and CV data = \"+str(np.round((len4/len3)*100, 4))+\"%\")\n",
    "#it prints: Out of total features in CV data, how many features are also present in train data"
   ]
  },
  {
   "cell_type": "markdown",
   "metadata": {},
   "source": [
    "<h1>Machine Learning Model</h1>"
   ]
  },
  {
   "cell_type": "code",
   "execution_count": 68,
   "metadata": {},
   "outputs": [],
   "source": [
    "# for the given indices, we will print the name of the features\n",
    "# and we will check whether the feature present in the test point text or not\n",
    "def getImportantFeatures(indices, gene, variation, text, noOfFeatures):\n",
    "    gene_vect = CountVectorizer()\n",
    "    var_vect = CountVectorizer()\n",
    "    text_vect = TfidfVectorizer(ngram_range = (1,2), stop_words = \"english\", min_df = 3, max_features = 100000)\n",
    "    \n",
    "    geneVect = gene_vect.fit(TrainData['Gene'])\n",
    "    varVect  = var_vect.fit(TrainData['Variation'])\n",
    "    textVect = text_vect.fit(TrainData['Text'])\n",
    "    \n",
    "    gene_features = gene_vect.get_feature_names()\n",
    "    variation_features = varVect.get_feature_names()\n",
    "    text_features = text_vect.get_feature_names()\n",
    "    \n",
    "    gene_feat_len = len(gene_features)\n",
    "    var_feat_len = len(variation_features)\n",
    "    \n",
    "    First = [x1 for x1 in range(0, 491, 10)]\n",
    "    del First[1]\n",
    "    Second = [x2 for x2 in range(1, 492, 10)]\n",
    "    del Second[1]\n",
    "    Third = [x3 for x3 in range(2, 493, 10)]\n",
    "    del Third[1]\n",
    "    \n",
    "    word_present = 0\n",
    "    for i, v in enumerate(indices):\n",
    "        if v < gene_feat_len:\n",
    "            word = gene_features[v]\n",
    "            \n",
    "            if word == gene:\n",
    "                word_present += 1\n",
    "                \n",
    "                if i in First:\n",
    "                    print(\"{}st Gene feature [{}] is present in query point\".format(i+1, word))\n",
    "                \n",
    "                elif i in Second:\n",
    "                    print(\"{}nd Gene feature [{}] is present in query point\".format(i+1, word))\n",
    "                \n",
    "                elif i in Third:\n",
    "                    print(\"{}rd Gene feature [{}] is present in query point\".format(i+1, word))\n",
    "                    \n",
    "                else:\n",
    "                    print(\"{}th Gen feature [{}] is present in query point\".format(i+1, word))\n",
    "                    \n",
    "        elif v < gene_feat_len + var_feat_len:\n",
    "            word = variation_features[v - gene_feat_len]\n",
    "            \n",
    "            if word == variation:\n",
    "                word_present += 1\n",
    "                if i in First:\n",
    "                    print(\"{}st Variation feature [{}] is present in query point\".format(i+1, word))\n",
    "                \n",
    "                elif i in Second:\n",
    "                    print(\"{}nd Variation feature [{}] is present in query point\".format(i+1, word))\n",
    "                \n",
    "                elif i in Third:\n",
    "                    print(\"{}rd Variation feature [{}] is present in query point\".format(i+1, word))\n",
    "                    \n",
    "                else:\n",
    "                    print(\"{}th Variation feature [{}] is present in query point\".format(i+1, word))\n",
    "        else:\n",
    "            word = text_features[v - (gene_feat_len + var_feat_len)]\n",
    "            \n",
    "            if word in text.split():\n",
    "                word_present += 1\n",
    "                \n",
    "                if i in First:\n",
    "                    print(\"{}st Text feature [{}] is present in query point\".format(i+1, word))\n",
    "                \n",
    "                elif i in Second:\n",
    "                    print(\"{}nd Text feature [{}] is present in query point\".format(i+1, word))\n",
    "                \n",
    "                elif i in Third:\n",
    "                    print(\"{}rd Text feature [{}] is present in query point\".format(i+1, word))\n",
    "                    \n",
    "                else:\n",
    "                    print(\"{}th Text feature [{}] is present in query point\".format(i+1, word))\n",
    "                    \n",
    "    print(\"-\"*63)                \n",
    "    print(\"Out of the top \"+str(noOfFeatures)+\" features \"+str(word_present)+\" are present in query point\")"
   ]
  },
  {
   "cell_type": "code",
   "execution_count": 69,
   "metadata": {},
   "outputs": [],
   "source": [
    "table = pd.DataFrame(columns = [\"Model\", \"Train Log-loss\", \"CV Log-loss\", \"Test Log-loss\", \"Mis-Classified CV\", \"Mis-Classified Test\", \"Remarks\"])"
   ]
  },
  {
   "cell_type": "markdown",
   "metadata": {},
   "source": [
    "<h1>Stacking three types of classifier</h1>"
   ]
  },
  {
   "cell_type": "code",
   "execution_count": 70,
   "metadata": {},
   "outputs": [],
   "source": [
    "\n",
    "train_gene_var_oneHotEncode = hstack((train_gene_feature_onehotCoding, train_variation_feature_onehotCoding))\n",
    "cv_gene_var_oneHotEncode = hstack((cv_gene_feature_onehotCoding, cv_variation_feature_onehotCoding))\n",
    "test_gene_var_oneHotEncode = hstack((test_gene_feature_onehotCoding, test_variation_feature_onehotCoding))\n",
    "\n",
    "Train_X = hstack((train_gene_var_oneHotEncode, train_text_feature_tfidf))\n",
    "Train_X = Train_X.tocsr()\n",
    "Train_Y = np.array(list(TrainDataLabels))\n",
    "\n",
    "CV_X = hstack((cv_gene_var_oneHotEncode, cv_text_feature_tfidf))\n",
    "CV_X = CV_X.tocsr()\n",
    "CV_Y = np.array(list(CV_Data_Labels))\n",
    "\n",
    "Test_X = hstack((test_gene_var_oneHotEncode, test_text_feature_tfidf))\n",
    "Test_X = Test_X.tocsr()\n",
    "Test_Y = np.array(list(TestLabels))"
   ]
  },
  {
   "cell_type": "code",
   "execution_count": 71,
   "metadata": {},
   "outputs": [
    {
     "name": "stdout",
     "output_type": "stream",
     "text": [
      "Shape of One hot encoded Gene and Variation, TFIDF text stacked vector for Train Data = (2121, 102176)\n",
      "Shape of One hot encoded Gene and Variation, TFIDF text stacked vector for CV Data = (531, 102176)\n",
      "Shape of One hot encoded Gene and Variation, TFIDF text stacked vector for Test Data = (664, 102176)\n"
     ]
    }
   ],
   "source": [
    "print(\"Shape of One hot encoded Gene and Variation, TFIDF text stacked vector for Train Data = \"+str(Train_X.shape))\n",
    "print(\"Shape of One hot encoded Gene and Variation, TFIDF text stacked vector for CV Data = \"+str(CV_X.shape))\n",
    "print(\"Shape of One hot encoded Gene and Variation, TFIDF text stacked vector for Test Data = \"+str(Test_X.shape))"
   ]
  },
  {
   "cell_type": "code",
   "execution_count": null,
   "metadata": {},
   "outputs": [],
   "source": []
  },
  {
   "cell_type": "code",
   "execution_count": null,
   "metadata": {},
   "outputs": [],
   "source": []
  },
  {
   "cell_type": "markdown",
   "metadata": {},
   "source": [
    "## Base Line Models"
   ]
  },
  {
   "cell_type": "markdown",
   "metadata": {},
   "source": [
    "### Naive Bayes"
   ]
  },
  {
   "cell_type": "markdown",
   "metadata": {},
   "source": [
    "#### Hyper-Parameter Tuning"
   ]
  },
  {
   "cell_type": "code",
   "execution_count": 73,
   "metadata": {},
   "outputs": [
    {
     "name": "stdout",
     "output_type": "stream",
     "text": [
      "For alpha value of 1e-05 CV log loss = 1.3403057495940172\n",
      "For alpha value of 0.0001 CV log loss = 1.3390288124148533\n",
      "For alpha value of 0.001 CV log loss = 1.3429070351867152\n",
      "For alpha value of 0.01 CV log loss = 1.345066573683878\n",
      "For alpha value of 0.1 CV log loss = 1.3502311028763068\n",
      "For alpha value of 1 CV log loss = 1.3560924295931085\n",
      "For alpha value of 10 CV log loss = 1.3771249047762044\n",
      "For alpha value of 100 CV log loss = 1.4124414589935335\n",
      "For alpha value of 1000 CV log loss = 1.4839942145268372\n",
      "For alpha value of 10000 CV log loss = 1.5000608249784566\n"
     ]
    },
    {
     "data": {
      "image/png": "[encoded data removed]",
      "text/plain": [
       "<Figure size 864x504 with 1 Axes>"
      ]
     },
     "metadata": {
      "needs_background": "light"
     },
     "output_type": "display_data"
    }
   ],
   "source": [
    "alpha = [10**x for x in range(-5, 5)]\n",
    "\n",
    "cv_log_loss = []\n",
    "for i in alpha:\n",
    "    clf = MultinomialNB(alpha=i)\n",
    "    clf.fit(Train_X, Train_Y)\n",
    "    calib_clf = CalibratedClassifierCV(clf, method = \"sigmoid\")\n",
    "    #The CalibratedClassifierCV class is used to calibrate a classifier. CalibratedClassifierCV uses a cross-validation\n",
    "    #approach to ensure unbiased data is always used to fit the calibrator. The data is split into k (train_set, test_set) \n",
    "    #couples (as determined by cv ).\n",
    "    \n",
    "    calib_clf.fit(Train_X, Train_Y)\n",
    "    predicted_y = calib_clf.predict_proba(CV_X)\n",
    "    cv_log_loss.append(log_loss(CV_Y, predicted_y, labels=clf.classes_))\n",
    "    print(\"For alpha value of \"+str(i)+\" CV log loss = \"+str(log_loss(CV_Y, predicted_y, labels=clf.classes_)))\n",
    "\n",
    "plt.figure(figsize = (12, 7))\n",
    "plt.plot(alpha, cv_log_loss)\n",
    "for xy in zip(alpha, np.round(cv_log_loss, 4)):\n",
    "    plt.annotate(xy, xy)\n",
    "    \n",
    "plt.title(\"Alpha vs Log-loss\", fontsize = 20)\n",
    "plt.xlabel(\"Alpha\", fontsize = 20)\n",
    "plt.ylabel(\"Log-Loss\", fontsize = 20)\n",
    "plt.show()"
   ]
  },
  {
   "cell_type": "markdown",
   "metadata": {},
   "source": [
    "<h2>Testing with best hyper-parameter</h2>"
   ]
  },
  {
   "cell_type": "code",
   "execution_count": 74,
   "metadata": {},
   "outputs": [
    {
     "name": "stdout",
     "output_type": "stream",
     "text": [
      "For values of best alpha =  0.0001 the train log loss =: 0.8994315727452437\n",
      "For values of best alpha =  0.0001 the CV log loss =: 1.3390288124148533\n",
      "For values of best alpha =  0.0001 the test log loss =: 1.2826554376098047\n"
     ]
    }
   ],
   "source": [
    "best_alpha = alpha[np.argmin(cv_log_loss)]\n",
    "clf = MultinomialNB(alpha=best_alpha)\n",
    "clf.fit(Train_X, Train_Y)\n",
    "calib_clf = CalibratedClassifierCV(clf, method = \"sigmoid\")\n",
    "calib_clf.fit(Train_X, Train_Y)\n",
    "\n",
    "predict_train = calib_clf.predict_proba(Train_X)\n",
    "print('For values of best alpha = ', best_alpha, \"the train log loss =:\",log_loss(Train_Y, predict_train, labels=clf.classes_))\n",
    "\n",
    "predict_cv = calib_clf.predict_proba(CV_X)\n",
    "print('For values of best alpha = ', best_alpha, \"the CV log loss =:\",log_loss(CV_Y, predict_cv, labels=clf.classes_))\n",
    "\n",
    "predict_test = calib_clf.predict_proba(Test_X)\n",
    "print('For values of best alpha = ', best_alpha, \"the test log loss =:\",log_loss(Test_Y, predict_test, labels=clf.classes_))"
   ]
  },
  {
   "cell_type": "code",
   "execution_count": 75,
   "metadata": {},
   "outputs": [
    {
     "name": "stdout",
     "output_type": "stream",
     "text": [
      "Percentage of mis-classified for CV points = 40.68%\n",
      "Percentage of mis-classified for Test points = 39.61%\n"
     ]
    }
   ],
   "source": [
    "print(\"Percentage of mis-classified for CV points = \"+str(np.round((np.count_nonzero(calib_clf.predict(CV_X) - CV_Y)/CV_X.shape[0]*100), 2))+\"%\")\n",
    "print(\"Percentage of mis-classified for Test points = \"+str(np.round((np.count_nonzero(calib_clf.predict(Test_X) - Test_Y)/Test_X.shape[0]*100), 2))+\"%\")"
   ]
  },
  {
   "cell_type": "code",
   "execution_count": 76,
   "metadata": {},
   "outputs": [],
   "source": [
    "table = table.append(pd.DataFrame([[\"Naive Bayes\", 0.9031, 1.3471, 1.2976, \"42.75%\", \"39.46%\", \"GoodFit\"]], columns = [\"Model\", \"Train Log-loss\", \"CV Log-loss\", \"Test Log-loss\", \"Mis-Classified CV\", \"Mis-Classified Test\", \"Remarks\"]))"
   ]
  },
  {
   "cell_type": "code",
   "execution_count": 77,
   "metadata": {},
   "outputs": [
    {
     "data": {
      "image/png": "[encoded data removed]",
      "text/plain": [
       "<Figure size 1440x504 with 2 Axes>"
      ]
     },
     "metadata": {
      "needs_background": "light"
     },
     "output_type": "display_data"
    },
    {
     "name": "stdout",
     "output_type": "stream",
     "text": [
      "-----------------------------------------------------------------------------------------------------------------------------\n"
     ]
    },
    {
     "data": {
      "image/png": "[encoded data removed]",
      "text/plain": [
       "<Figure size 1440x504 with 2 Axes>"
      ]
     },
     "metadata": {
      "needs_background": "light"
     },
     "output_type": "display_data"
    },
    {
     "name": "stdout",
     "output_type": "stream",
     "text": [
      "-----------------------------------------------------------------------------------------------------------------------------\n"
     ]
    },
    {
     "data": {
      "image/png": "[encoded data removed]",
      "text/plain": [
       "<Figure size 1440x504 with 2 Axes>"
      ]
     },
     "metadata": {
      "needs_background": "light"
     },
     "output_type": "display_data"
    }
   ],
   "source": [
    "print_confusionMatrix(Test_Y, calib_clf.predict(Test_X))"
   ]
  },
  {
   "cell_type": "markdown",
   "metadata": {},
   "source": [
    "<h2>Checking first 100 important features for correctly classified test point</h2>"
   ]
  },
  {
   "cell_type": "code",
   "execution_count": 78,
   "metadata": {
    "scrolled": false
   },
   "outputs": [
    {
     "name": "stdout",
     "output_type": "stream",
     "text": [
      "Predicted Class label for test point = 4\n",
      "Predicted Probabilities for test point = [[0.0819 0.0732 0.0118 0.6714 0.0351 0.0361 0.0809 0.005  0.0046]]\n",
      "True class label for test point = 4\n",
      "---------------------------------------------------------------\n",
      "1st Text feature [shown] is present in query point\n",
      "2nd Text feature [results] is present in query point\n",
      "3rd Text feature [protein] is present in query point\n",
      "4th Text feature [using] is present in query point\n",
      "5th Text feature [activity] is present in query point\n",
      "6th Text feature [described] is present in query point\n",
      "7th Text feature [proteins] is present in query point\n",
      "8th Text feature [determined] is present in query point\n",
      "9th Text feature [type] is present in query point\n",
      "10th Text feature [previously] is present in query point\n",
      "11th Text feature [mutations] is present in query point\n",
      "12th Text feature [experiments] is present in query point\n",
      "13th Text feature [indicated] is present in query point\n",
      "14th Text feature [important] is present in query point\n",
      "15th Text feature [function] is present in query point\n",
      "16th Text feature [cells] is present in query point\n",
      "17th Text feature [analysis] is present in query point\n",
      "18th Text feature [acid] is present in query point\n",
      "19th Text feature [expressed] is present in query point\n",
      "20th Text feature [addition] is present in query point\n",
      "21st Text feature [indicate] is present in query point\n",
      "22nd Text feature [similar] is present in query point\n",
      "23rd Text feature [amino] is present in query point\n",
      "26th Text feature [levels] is present in query point\n",
      "27th Text feature [suggest] is present in query point\n",
      "28th Text feature [30] is present in query point\n",
      "29th Text feature [expression] is present in query point\n",
      "30th Text feature [10] is present in query point\n",
      "31st Text feature [containing] is present in query point\n",
      "32nd Text feature [analyzed] is present in query point\n",
      "33rd Text feature [performed] is present in query point\n",
      "34th Text feature [ability] is present in query point\n",
      "36th Text feature [associated] is present in query point\n",
      "37th Text feature [vitro] is present in query point\n",
      "38th Text feature [determine] is present in query point\n",
      "39th Text feature [loss] is present in query point\n",
      "41st Text feature [effects] is present in query point\n",
      "43rd Text feature [compared] is present in query point\n",
      "44th Text feature [lower] is present in query point\n",
      "45th Text feature [result] is present in query point\n",
      "46th Text feature [reported] is present in query point\n",
      "47th Text feature [reduced] is present in query point\n",
      "48th Text feature [previous] is present in query point\n",
      "49th Text feature [functions] is present in query point\n",
      "50th Text feature [control] is present in query point\n",
      "51st Text feature [possible] is present in query point\n",
      "52nd Text feature [suggesting] is present in query point\n",
      "54th Text feature [used] is present in query point\n",
      "55th Text feature [cell] is present in query point\n",
      "56th Text feature [indicating] is present in query point\n",
      "57th Text feature [mutant] is present in query point\n",
      "58th Text feature [including] is present in query point\n",
      "59th Text feature [mutation] is present in query point\n",
      "60th Text feature [figure] is present in query point\n",
      "61st Text feature [transfected] is present in query point\n",
      "62nd Text feature [missense] is present in query point\n",
      "63rd Text feature [different] is present in query point\n",
      "64th Text feature [15] is present in query point\n",
      "65th Text feature [critical] is present in query point\n",
      "66th Text feature [respectively] is present in query point\n",
      "67th Text feature [generated] is present in query point\n",
      "69th Text feature [contribute] is present in query point\n",
      "70th Text feature [retained] is present in query point\n",
      "71st Text feature [transfection] is present in query point\n",
      "72nd Text feature [mammalian] is present in query point\n",
      "73rd Text feature [vector] is present in query point\n",
      "74th Text feature [high] is present in query point\n",
      "75th Text feature [table] is present in query point\n",
      "76th Text feature [indicates] is present in query point\n",
      "77th Text feature [purified] is present in query point\n",
      "78th Text feature [bind] is present in query point\n",
      "79th Text feature [contrast] is present in query point\n",
      "80th Text feature [25] is present in query point\n",
      "81st Text feature [role] is present in query point\n",
      "82nd Text feature [showed] is present in query point\n",
      "83rd Text feature [directly] is present in query point\n",
      "84th Text feature [functional] is present in query point\n",
      "85th Text feature [resulting] is present in query point\n",
      "86th Text feature [tagged] is present in query point\n",
      "87th Text feature [incubated] is present in query point\n",
      "88th Text feature [data] is present in query point\n",
      "89th Text feature [involved] is present in query point\n",
      "90th Text feature [did] is present in query point\n",
      "91st Text feature [human] is present in query point\n",
      "93rd Text feature [standard] is present in query point\n",
      "94th Text feature [affect] is present in query point\n",
      "95th Text feature [tested] is present in query point\n",
      "96th Text feature [vivo] is present in query point\n",
      "97th Text feature [suggested] is present in query point\n",
      "99th Text feature [required] is present in query point\n",
      "100th Text feature [according] is present in query point\n",
      "---------------------------------------------------------------\n",
      "Out of the top 100 features 91 are present in query point\n"
     ]
    }
   ],
   "source": [
    "testDataPoint = 5            #we are taking the fifth training example.\n",
    "no_feature = 100             #?\n",
    "predicted_cls = calib_clf.predict(Test_X[testDataPoint])   #predicted_y   #calib_clf is our model\n",
    "TrueLabel = Test_Y[testDataPoint]                          #true_y\n",
    "predicted_prob = np.round(calib_clf.predict_proba(Test_X[testDataPoint]), 4)  #probability of success return garxa\n",
    "print(\"Predicted Class label for test point = \"+str(predicted_cls[0]))\n",
    "print(\"Predicted Probabilities for test point = \"+str(predicted_prob))\n",
    "print(\"True class label for test point = \"+str(TrueLabel))\n",
    "indices = np.argsort(-clf.coef_)[predicted_cls-1][:,:no_feature]\n",
    "print(\"-\"*63)\n",
    "getImportantFeatures(indices[0], TestData.iloc[testDataPoint][\"Gene\"], TestData.iloc[testDataPoint][\"Variation\"], TestData.iloc[testDataPoint][\"Text\"], no_feature)"
   ]
  },
  {
   "cell_type": "markdown",
   "metadata": {},
   "source": [
    "<h2>Checking first 100 important features for incorrectly classified test point</h2>"
   ]
  },
  {
   "cell_type": "code",
   "execution_count": 79,
   "metadata": {},
   "outputs": [
    {
     "name": "stdout",
     "output_type": "stream",
     "text": [
      "Predicted Class label for test point = 6\n",
      "Predicted Probabilities for test point [0.076  0.0685 0.0109 0.093  0.0326 0.6342 0.0758 0.0046 0.0043]\n",
      "True class label for test point = 6\n",
      "---------------------------------------------------------------\n",
      "3rd Text feature [predicted] is present in query point\n",
      "5th Text feature [expected] is present in query point\n",
      "6th Text feature [analysis] is present in query point\n",
      "8th Text feature [used] is present in query point\n",
      "12th Text feature [57] is present in query point\n",
      "14th Text feature [basis] is present in query point\n",
      "18th Text feature [sequence] is present in query point\n",
      "43rd Text feature [odds] is present in query point\n",
      "54th Text feature [model] is present in query point\n",
      "56th Text feature [significant] is present in query point\n",
      "58th Text feature [known] is present in query point\n",
      "61st Text feature [deleterious] is present in query point\n",
      "66th Text feature [family] is present in query point\n",
      "69th Text feature [personal] is present in query point\n",
      "70th Text feature [43] is present in query point\n",
      "71st Text feature [data] is present in query point\n",
      "72nd Text feature [carry] is present in query point\n",
      "77th Text feature [34] is present in query point\n",
      "79th Text feature [classified] is present in query point\n",
      "85th Text feature [10] is present in query point\n",
      "91st Text feature [evidence] is present in query point\n",
      "94th Text feature [combined] is present in query point\n",
      "100th Text feature [using] is present in query point\n",
      "---------------------------------------------------------------\n",
      "Out of the top 100 features 23 are present in query point\n"
     ]
    }
   ],
   "source": [
    "testDataPoint = 10\n",
    "no_feature = 100\n",
    "predicted_cls = calib_clf.predict(Test_X[testDataPoint])\n",
    "TrueLabel = Test_Y[testDataPoint]\n",
    "predicted_prob = np.round(calib_clf.predict_proba(Test_X[testDataPoint]), 4)\n",
    "print(\"Predicted Class label for test point = \"+str(predicted_cls[0]))\n",
    "print(\"Predicted Probabilities for test point \", end='')\n",
    "print(predicted_prob[0])\n",
    "print(\"True class label for test point = \"+str(TrueLabel))\n",
    "indices = np.argsort(-clf.coef_)[predicted_cls-1][:,:no_feature]\n",
    "print(\"-\"*63)\n",
    "getImportantFeatures(indices[0], TestData.iloc[testDataPoint][\"Gene\"], TestData.iloc[testDataPoint][\"Variation\"], TestData.iloc[testDataPoint][\"Text\"], no_feature)"
   ]
  }
 ],
 "metadata": {
  "kernelspec": {
   "display_name": "Python 3 (ipykernel)",
   "language": "python",
   "name": "python3"
  },
  "language_info": {
   "codemirror_mode": {
    "name": "ipython",
    "version": 3
   },
   "file_extension": ".py",
   "mimetype": "text/x-python",
   "name": "python",
   "nbconvert_exporter": "python",
   "pygments_lexer": "ipython3",
   "version": "3.9.7"
  }
 },
 "nbformat": 4,
 "nbformat_minor": 2
}
